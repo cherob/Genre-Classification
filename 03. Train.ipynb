{
 "cells": [
  {
   "cell_type": "markdown",
   "metadata": {},
   "source": [
    "# Reading & Understanding Data"
   ]
  },
  {
   "cell_type": "markdown",
   "metadata": {},
   "source": [
    "## Importing Libraries"
   ]
  },
  {
   "cell_type": "code",
   "execution_count": 21,
   "metadata": {},
   "outputs": [],
   "source": [
    "import numpy as np\n",
    "import pandas as pd\n",
    "import matplotlib.pyplot as plt\n",
    "import seaborn as sns\n",
    "sns.set_style('whitegrid')\n",
    "%matplotlib inline\n",
    "import warnings\n",
    "warnings.filterwarnings('ignore')\n",
    "import sklearn.metrics as skm\n",
    "import sklearn.model_selection as skms\n",
    "import sklearn.preprocessing as skp\n",
    "import os\n",
    "import random\n",
    "import librosa, IPython\n",
    "import librosa.display as lplt"
   ]
  },
  {
   "cell_type": "markdown",
   "metadata": {},
   "source": [
    "### Loading Config"
   ]
  },
  {
   "cell_type": "code",
   "execution_count": 22,
   "metadata": {},
   "outputs": [
    {
     "name": "stdout",
     "output_type": "stream",
     "text": [
      "['Shriek', 'UKay']\n"
     ]
    }
   ],
   "source": [
    "class Config:\n",
    "    tracks = 100\n",
    "    segments = 10\n",
    "    seconds = 3\n",
    "    rate = 22050\n",
    "    data_dir = 'data'\n",
    "    lib_dir = 'D:\\\\Musik\\\\Genres\\\\'\n",
    "    genres = [e for e in os.listdir(lib_dir) if e not in ['Trash', 'Other', 'JumpUp', \n",
    "               'Hiphop','Disco', 'Rock', 'Blues', 'Classical', 'Country', 'Reggae', 'Jazz', 'Metal', 'Pop',\n",
    "               'DnB', \n",
    "            #    'Crossbread', 'Neurofunk', 'Sambass', 'Jungle', 'Drumstep', 'Deep', 'Liquid', 'Minimal', 'Dancefloor',\n",
    "            #    'JumpUp', \n",
    "               'Techno', 'Goa', 'PsyTrance', \n",
    "               'Hardtekk', 'Riddim', 'Breakcore', 'Dubstep']]\n",
    "    sub_dir = os.path.join(data_dir, f'{tracks}x{segments}x{seconds}-{len(genres)}')\n",
    "    seed = 42\n",
    "config = Config()\n",
    "print(config.genres)"
   ]
  },
  {
   "cell_type": "code",
   "execution_count": 23,
   "metadata": {},
   "outputs": [],
   "source": [
    "np.random.seed(config.seed)"
   ]
  },
  {
   "cell_type": "markdown",
   "metadata": {},
   "source": [
    "### About the dataset"
   ]
  },
  {
   "cell_type": "code",
   "execution_count": 24,
   "metadata": {},
   "outputs": [],
   "source": [
    "from src.Database import Database\n",
    "\n",
    "db = Database(config.sub_dir)\n",
    "df = db.df"
   ]
  },
  {
   "cell_type": "code",
   "execution_count": 25,
   "metadata": {},
   "outputs": [
    {
     "data": {
      "text/html": [
       "<div>\n",
       "<style scoped>\n",
       "    .dataframe tbody tr th:only-of-type {\n",
       "        vertical-align: middle;\n",
       "    }\n",
       "\n",
       "    .dataframe tbody tr th {\n",
       "        vertical-align: top;\n",
       "    }\n",
       "\n",
       "    .dataframe thead th {\n",
       "        text-align: right;\n",
       "    }\n",
       "</style>\n",
       "<table border=\"1\" class=\"dataframe\">\n",
       "  <thead>\n",
       "    <tr style=\"text-align: right;\">\n",
       "      <th></th>\n",
       "      <th>filename</th>\n",
       "      <th>length</th>\n",
       "      <th>chroma_stft_var</th>\n",
       "      <th>chroma_stft_mean</th>\n",
       "      <th>rms_var</th>\n",
       "      <th>rms_mean</th>\n",
       "      <th>spectral_centroid_var</th>\n",
       "      <th>spectral_centroid_mean</th>\n",
       "      <th>spectral_bandwidth_var</th>\n",
       "      <th>spectral_bandwidth_mean</th>\n",
       "      <th>...</th>\n",
       "      <th>mfcc16_mean</th>\n",
       "      <th>mfcc17_var</th>\n",
       "      <th>mfcc17_mean</th>\n",
       "      <th>mfcc18_var</th>\n",
       "      <th>mfcc18_mean</th>\n",
       "      <th>mfcc19_var</th>\n",
       "      <th>mfcc19_mean</th>\n",
       "      <th>mfcc20_var</th>\n",
       "      <th>mfcc20_mean</th>\n",
       "      <th>label</th>\n",
       "    </tr>\n",
       "  </thead>\n",
       "  <tbody>\n",
       "    <tr>\n",
       "      <th>0</th>\n",
       "      <td>03PrimateDownfall627821976Cell.0</td>\n",
       "      <td>66150.0</td>\n",
       "      <td>0.009296</td>\n",
       "      <td>0.497590</td>\n",
       "      <td>0.006605</td>\n",
       "      <td>0.274601</td>\n",
       "      <td>238001.912870</td>\n",
       "      <td>2574.155621</td>\n",
       "      <td>76711.471650</td>\n",
       "      <td>2040.774070</td>\n",
       "      <td>...</td>\n",
       "      <td>-1.334186</td>\n",
       "      <td>23.713867</td>\n",
       "      <td>-5.061430</td>\n",
       "      <td>18.567524</td>\n",
       "      <td>-3.741465</td>\n",
       "      <td>46.303562</td>\n",
       "      <td>-8.611483</td>\n",
       "      <td>24.877447</td>\n",
       "      <td>-3.954338</td>\n",
       "      <td>Shriek</td>\n",
       "    </tr>\n",
       "    <tr>\n",
       "      <th>1</th>\n",
       "      <td>03PrimateDownfall627821976Cell.1</td>\n",
       "      <td>66150.0</td>\n",
       "      <td>0.011243</td>\n",
       "      <td>0.501268</td>\n",
       "      <td>0.008457</td>\n",
       "      <td>0.259598</td>\n",
       "      <td>202635.808490</td>\n",
       "      <td>2508.350438</td>\n",
       "      <td>83585.551698</td>\n",
       "      <td>2060.502610</td>\n",
       "      <td>...</td>\n",
       "      <td>-0.635999</td>\n",
       "      <td>22.081547</td>\n",
       "      <td>-4.053811</td>\n",
       "      <td>19.842545</td>\n",
       "      <td>-3.295922</td>\n",
       "      <td>42.090244</td>\n",
       "      <td>-9.165074</td>\n",
       "      <td>23.949324</td>\n",
       "      <td>-4.123752</td>\n",
       "      <td>Shriek</td>\n",
       "    </tr>\n",
       "    <tr>\n",
       "      <th>2</th>\n",
       "      <td>03PrimateDownfall627821976Cell.2</td>\n",
       "      <td>66150.0</td>\n",
       "      <td>0.012617</td>\n",
       "      <td>0.520511</td>\n",
       "      <td>0.010584</td>\n",
       "      <td>0.243153</td>\n",
       "      <td>312105.094500</td>\n",
       "      <td>2648.990864</td>\n",
       "      <td>135553.887308</td>\n",
       "      <td>2143.874515</td>\n",
       "      <td>...</td>\n",
       "      <td>0.319971</td>\n",
       "      <td>26.146427</td>\n",
       "      <td>-3.858580</td>\n",
       "      <td>21.297817</td>\n",
       "      <td>-3.229922</td>\n",
       "      <td>41.006748</td>\n",
       "      <td>-8.822874</td>\n",
       "      <td>23.581747</td>\n",
       "      <td>-4.136311</td>\n",
       "      <td>Shriek</td>\n",
       "    </tr>\n",
       "    <tr>\n",
       "      <th>3</th>\n",
       "      <td>03PrimateDownfall627821976Cell.3</td>\n",
       "      <td>66150.0</td>\n",
       "      <td>0.014515</td>\n",
       "      <td>0.521294</td>\n",
       "      <td>0.010789</td>\n",
       "      <td>0.214211</td>\n",
       "      <td>344815.010903</td>\n",
       "      <td>2651.165974</td>\n",
       "      <td>159273.913974</td>\n",
       "      <td>2183.561939</td>\n",
       "      <td>...</td>\n",
       "      <td>0.444429</td>\n",
       "      <td>27.551897</td>\n",
       "      <td>-3.651434</td>\n",
       "      <td>17.837286</td>\n",
       "      <td>-3.184673</td>\n",
       "      <td>32.379326</td>\n",
       "      <td>-9.062913</td>\n",
       "      <td>14.830808</td>\n",
       "      <td>-4.248649</td>\n",
       "      <td>Shriek</td>\n",
       "    </tr>\n",
       "    <tr>\n",
       "      <th>4</th>\n",
       "      <td>03PrimateDownfall627821976Cell.4</td>\n",
       "      <td>66150.0</td>\n",
       "      <td>0.014213</td>\n",
       "      <td>0.514085</td>\n",
       "      <td>0.010733</td>\n",
       "      <td>0.188972</td>\n",
       "      <td>496516.524384</td>\n",
       "      <td>2758.113355</td>\n",
       "      <td>183599.431885</td>\n",
       "      <td>2234.058691</td>\n",
       "      <td>...</td>\n",
       "      <td>0.380775</td>\n",
       "      <td>26.664211</td>\n",
       "      <td>-3.621789</td>\n",
       "      <td>19.831059</td>\n",
       "      <td>-3.215118</td>\n",
       "      <td>32.757542</td>\n",
       "      <td>-9.105444</td>\n",
       "      <td>16.431623</td>\n",
       "      <td>-4.093633</td>\n",
       "      <td>Shriek</td>\n",
       "    </tr>\n",
       "  </tbody>\n",
       "</table>\n",
       "<p>5 rows × 60 columns</p>\n",
       "</div>"
      ],
      "text/plain": [
       "                           filename   length  chroma_stft_var  \\\n",
       "0  03PrimateDownfall627821976Cell.0  66150.0         0.009296   \n",
       "1  03PrimateDownfall627821976Cell.1  66150.0         0.011243   \n",
       "2  03PrimateDownfall627821976Cell.2  66150.0         0.012617   \n",
       "3  03PrimateDownfall627821976Cell.3  66150.0         0.014515   \n",
       "4  03PrimateDownfall627821976Cell.4  66150.0         0.014213   \n",
       "\n",
       "   chroma_stft_mean   rms_var  rms_mean  spectral_centroid_var  \\\n",
       "0          0.497590  0.006605  0.274601          238001.912870   \n",
       "1          0.501268  0.008457  0.259598          202635.808490   \n",
       "2          0.520511  0.010584  0.243153          312105.094500   \n",
       "3          0.521294  0.010789  0.214211          344815.010903   \n",
       "4          0.514085  0.010733  0.188972          496516.524384   \n",
       "\n",
       "   spectral_centroid_mean  spectral_bandwidth_var  spectral_bandwidth_mean  \\\n",
       "0             2574.155621            76711.471650              2040.774070   \n",
       "1             2508.350438            83585.551698              2060.502610   \n",
       "2             2648.990864           135553.887308              2143.874515   \n",
       "3             2651.165974           159273.913974              2183.561939   \n",
       "4             2758.113355           183599.431885              2234.058691   \n",
       "\n",
       "   ...  mfcc16_mean  mfcc17_var  mfcc17_mean  mfcc18_var  mfcc18_mean  \\\n",
       "0  ...    -1.334186   23.713867    -5.061430   18.567524    -3.741465   \n",
       "1  ...    -0.635999   22.081547    -4.053811   19.842545    -3.295922   \n",
       "2  ...     0.319971   26.146427    -3.858580   21.297817    -3.229922   \n",
       "3  ...     0.444429   27.551897    -3.651434   17.837286    -3.184673   \n",
       "4  ...     0.380775   26.664211    -3.621789   19.831059    -3.215118   \n",
       "\n",
       "   mfcc19_var  mfcc19_mean  mfcc20_var  mfcc20_mean   label  \n",
       "0   46.303562    -8.611483   24.877447    -3.954338  Shriek  \n",
       "1   42.090244    -9.165074   23.949324    -4.123752  Shriek  \n",
       "2   41.006748    -8.822874   23.581747    -4.136311  Shriek  \n",
       "3   32.379326    -9.062913   14.830808    -4.248649  Shriek  \n",
       "4   32.757542    -9.105444   16.431623    -4.093633  Shriek  \n",
       "\n",
       "[5 rows x 60 columns]"
      ]
     },
     "execution_count": 25,
     "metadata": {},
     "output_type": "execute_result"
    }
   ],
   "source": [
    "df.head()"
   ]
  },
  {
   "cell_type": "code",
   "execution_count": 26,
   "metadata": {},
   "outputs": [
    {
     "name": "stdout",
     "output_type": "stream",
     "text": [
      "Dataset has (2000, 60)\n",
      "Count of Positive and Negative samples\n"
     ]
    },
    {
     "data": {
      "text/html": [
       "<div>\n",
       "<style scoped>\n",
       "    .dataframe tbody tr th:only-of-type {\n",
       "        vertical-align: middle;\n",
       "    }\n",
       "\n",
       "    .dataframe tbody tr th {\n",
       "        vertical-align: top;\n",
       "    }\n",
       "\n",
       "    .dataframe thead th {\n",
       "        text-align: right;\n",
       "    }\n",
       "</style>\n",
       "<table border=\"1\" class=\"dataframe\">\n",
       "  <thead>\n",
       "    <tr style=\"text-align: right;\">\n",
       "      <th></th>\n",
       "      <th>index</th>\n",
       "      <th>label</th>\n",
       "    </tr>\n",
       "  </thead>\n",
       "  <tbody>\n",
       "    <tr>\n",
       "      <th>0</th>\n",
       "      <td>Shriek</td>\n",
       "      <td>1000</td>\n",
       "    </tr>\n",
       "    <tr>\n",
       "      <th>1</th>\n",
       "      <td>UKay</td>\n",
       "      <td>1000</td>\n",
       "    </tr>\n",
       "  </tbody>\n",
       "</table>\n",
       "</div>"
      ],
      "text/plain": [
       "    index  label\n",
       "0  Shriek   1000\n",
       "1    UKay   1000"
      ]
     },
     "execution_count": 26,
     "metadata": {},
     "output_type": "execute_result"
    }
   ],
   "source": [
    "print(\"Dataset has\",df.shape)\n",
    "print(\"Count of Positive and Negative samples\")\n",
    "df.label.value_counts().reset_index()"
   ]
  },
  {
   "cell_type": "markdown",
   "metadata": {},
   "source": [
    "# Data Preparation"
   ]
  },
  {
   "cell_type": "markdown",
   "metadata": {},
   "source": [
    "Treat missing values.\n",
    "Outlier Treatment\n",
    "Define dummy variables for categorical variables."
   ]
  },
  {
   "cell_type": "markdown",
   "metadata": {},
   "source": [
    "### Missing Value Treatment"
   ]
  },
  {
   "cell_type": "code",
   "execution_count": 27,
   "metadata": {},
   "outputs": [
    {
     "name": "stdout",
     "output_type": "stream",
     "text": [
      "Columns with NA values are []\n"
     ]
    }
   ],
   "source": [
    "# find all columns with any NA values\n",
    "\n",
    "df.drop(['length'], axis=1, inplace=True)\n",
    "print(\"Columns with NA values are\",list(df.columns[df.isnull().any()]))"
   ]
  },
  {
   "cell_type": "markdown",
   "metadata": {},
   "source": [
    "### Encode Genre Label"
   ]
  },
  {
   "cell_type": "code",
   "execution_count": 28,
   "metadata": {},
   "outputs": [
    {
     "name": "stdout",
     "output_type": "stream",
     "text": [
      "{'Shriek': 0, 'UKay': 1}\n",
      "{0: 'Shriek', 1: 'UKay'}\n"
     ]
    }
   ],
   "source": [
    "# map labels to index\n",
    "label_index = {}\n",
    "index_label = {}\n",
    "for i, x in enumerate(df.label.unique()):\n",
    "    label_index[x] = i\n",
    "    index_label[i] = x\n",
    "print(label_index)\n",
    "print(index_label)"
   ]
  },
  {
   "cell_type": "code",
   "execution_count": 29,
   "metadata": {},
   "outputs": [],
   "source": [
    "# update labels in df to index\n",
    "df.label = [label_index[l] for l in df.label]"
   ]
  },
  {
   "cell_type": "markdown",
   "metadata": {},
   "source": [
    "### Split Train, Dev & Test Sets"
   ]
  },
  {
   "cell_type": "code",
   "execution_count": 30,
   "metadata": {},
   "outputs": [],
   "source": [
    "# shuffle samples\n",
    "df_shuffle = df.sample(frac=1, random_state=config.seed).reset_index(drop=True)"
   ]
  },
  {
   "cell_type": "code",
   "execution_count": 31,
   "metadata": {},
   "outputs": [
    {
     "name": "stdout",
     "output_type": "stream",
     "text": [
      "<class 'pandas.core.frame.DataFrame'>\n",
      "RangeIndex: 2000 entries, 0 to 1999\n",
      "Data columns (total 57 columns):\n",
      " #   Column                   Non-Null Count  Dtype  \n",
      "---  ------                   --------------  -----  \n",
      " 0   chroma_stft_var          2000 non-null   float64\n",
      " 1   chroma_stft_mean         2000 non-null   float64\n",
      " 2   rms_var                  2000 non-null   float64\n",
      " 3   rms_mean                 2000 non-null   float64\n",
      " 4   spectral_centroid_var    2000 non-null   float64\n",
      " 5   spectral_centroid_mean   2000 non-null   float64\n",
      " 6   spectral_bandwidth_var   2000 non-null   float64\n",
      " 7   spectral_bandwidth_mean  2000 non-null   float64\n",
      " 8   rolloff_var              2000 non-null   float64\n",
      " 9   rolloff_mean             2000 non-null   float64\n",
      " 10  zero_crossing_rate_var   2000 non-null   float64\n",
      " 11  zero_crossing_rate_mean  2000 non-null   float64\n",
      " 12  harmony_var              2000 non-null   float64\n",
      " 13  harmony_mean             2000 non-null   float64\n",
      " 14  perceptr_var             2000 non-null   float64\n",
      " 15  perceptr_mean            2000 non-null   float64\n",
      " 16  tempo                    2000 non-null   float64\n",
      " 17  mfcc1_var                2000 non-null   float64\n",
      " 18  mfcc1_mean               2000 non-null   float64\n",
      " 19  mfcc2_var                2000 non-null   float64\n",
      " 20  mfcc2_mean               2000 non-null   float64\n",
      " 21  mfcc3_var                2000 non-null   float64\n",
      " 22  mfcc3_mean               2000 non-null   float64\n",
      " 23  mfcc4_var                2000 non-null   float64\n",
      " 24  mfcc4_mean               2000 non-null   float64\n",
      " 25  mfcc5_var                2000 non-null   float64\n",
      " 26  mfcc5_mean               2000 non-null   float64\n",
      " 27  mfcc6_var                2000 non-null   float64\n",
      " 28  mfcc6_mean               2000 non-null   float64\n",
      " 29  mfcc7_var                2000 non-null   float64\n",
      " 30  mfcc7_mean               2000 non-null   float64\n",
      " 31  mfcc8_var                2000 non-null   float64\n",
      " 32  mfcc8_mean               2000 non-null   float64\n",
      " 33  mfcc9_var                2000 non-null   float64\n",
      " 34  mfcc9_mean               2000 non-null   float64\n",
      " 35  mfcc10_var               2000 non-null   float64\n",
      " 36  mfcc10_mean              2000 non-null   float64\n",
      " 37  mfcc11_var               2000 non-null   float64\n",
      " 38  mfcc11_mean              2000 non-null   float64\n",
      " 39  mfcc12_var               2000 non-null   float64\n",
      " 40  mfcc12_mean              2000 non-null   float64\n",
      " 41  mfcc13_var               2000 non-null   float64\n",
      " 42  mfcc13_mean              2000 non-null   float64\n",
      " 43  mfcc14_var               2000 non-null   float64\n",
      " 44  mfcc14_mean              2000 non-null   float64\n",
      " 45  mfcc15_var               2000 non-null   float64\n",
      " 46  mfcc15_mean              2000 non-null   float64\n",
      " 47  mfcc16_var               2000 non-null   float64\n",
      " 48  mfcc16_mean              2000 non-null   float64\n",
      " 49  mfcc17_var               2000 non-null   float64\n",
      " 50  mfcc17_mean              2000 non-null   float64\n",
      " 51  mfcc18_var               2000 non-null   float64\n",
      " 52  mfcc18_mean              2000 non-null   float64\n",
      " 53  mfcc19_var               2000 non-null   float64\n",
      " 54  mfcc19_mean              2000 non-null   float64\n",
      " 55  mfcc20_var               2000 non-null   float64\n",
      " 56  mfcc20_mean              2000 non-null   float64\n",
      "dtypes: float64(57)\n",
      "memory usage: 890.8 KB\n"
     ]
    }
   ],
   "source": [
    "# remove irrelevant columns\n",
    "df_shuffle.drop(['filename'], axis=1, inplace=True)\n",
    "df_y = df_shuffle.pop('label')\n",
    "df_X = df_shuffle\n",
    "\n",
    "# df_X.astype(float)\n",
    "df_X.info()\n",
    "\n",
    "# split into train dev and test\n",
    "X_train, df_test_valid_X, y_train, df_test_valid_y = skms.train_test_split(df_X, df_y, train_size=0.7, random_state=config.seed, stratify=df_y)\n",
    "X_dev, X_test, y_dev, y_test = skms.train_test_split(df_test_valid_X, df_test_valid_y, train_size=0.66, random_state=config.seed, stratify=df_test_valid_y)"
   ]
  },
  {
   "cell_type": "code",
   "execution_count": 32,
   "metadata": {},
   "outputs": [
    {
     "name": "stdout",
     "output_type": "stream",
     "text": [
      "Train set has 1400 records out of 2000 which is 70%\n",
      "Dev set has 396 records out of 2000 which is 20%\n",
      "Test set has 204 records out of 2000 which is 10%\n"
     ]
    }
   ],
   "source": [
    "print(f\"Train set has {X_train.shape[0]} records out of {len(df_shuffle)} which is {round(X_train.shape[0]/len(df_shuffle)*100)}%\")\n",
    "print(f\"Dev set has {X_dev.shape[0]} records out of {len(df_shuffle)} which is {round(X_dev.shape[0]/len(df_shuffle)*100)}%\")\n",
    "print(f\"Test set has {X_test.shape[0]} records out of {len(df_shuffle)} which is {round(X_test.shape[0]/len(df_shuffle)*100)}%\")"
   ]
  },
  {
   "cell_type": "code",
   "execution_count": 33,
   "metadata": {},
   "outputs": [
    {
     "name": "stdout",
     "output_type": "stream",
     "text": [
      "50.0\n",
      "50.0\n",
      "50.0\n"
     ]
    }
   ],
   "source": [
    "print(y_train.value_counts()[0]/y_train.shape[0]*100)\n",
    "print(y_dev.value_counts()[0]/y_dev.shape[0]*100)\n",
    "print(y_test.value_counts()[0]/y_test.shape[0]*100)"
   ]
  },
  {
   "cell_type": "markdown",
   "metadata": {},
   "source": [
    "#### Scale the Features"
   ]
  },
  {
   "cell_type": "code",
   "execution_count": 34,
   "metadata": {},
   "outputs": [],
   "source": [
    "scaler = skp.StandardScaler()\n",
    "X_train = pd.DataFrame(scaler.fit_transform(X_train), columns=X_train.columns)\n",
    "X_dev = pd.DataFrame(scaler.transform(X_dev), columns=X_train.columns)\n",
    "X_test = pd.DataFrame(scaler.transform(X_test), columns=X_train.columns)"
   ]
  },
  {
   "cell_type": "markdown",
   "metadata": {},
   "source": [
    "# Model Building"
   ]
  },
  {
   "cell_type": "code",
   "execution_count": 35,
   "metadata": {},
   "outputs": [
    {
     "name": "stdout",
     "output_type": "stream",
     "text": [
      "TF version:- 2.8.0\n"
     ]
    }
   ],
   "source": [
    "import tensorflow as tf\n",
    "print(\"TF version:-\", tf.__version__)\n",
    "import keras as k\n",
    "tf.random.set_seed(config.seed)"
   ]
  },
  {
   "cell_type": "code",
   "execution_count": 36,
   "metadata": {},
   "outputs": [],
   "source": [
    "\n",
    "def trainModel(model, epochs, optimizer):\n",
    "    # [32, 64] - CPU\n",
    "    # [128, 256] - GPU for more boost\n",
    "    batch_size = 32\n",
    "    \n",
    "    # Stop training when a monitored metric has stopped improving.\n",
    "    callback = tf.keras.callbacks.EarlyStopping(monitor='loss', patience=3)\n",
    "    \n",
    "    model.compile(optimizer=optimizer,\n",
    "                  loss='sparse_categorical_crossentropy',\n",
    "                  metrics='accuracy'\n",
    "    )\n",
    "    return model.fit(X_train, y_train, validation_data=(X_dev, y_dev), epochs=epochs, \n",
    "                     batch_size=batch_size, callbacks=[callback])\n",
    "\n",
    "def plotHistory(history):\n",
    "    print(\"Max. Validation Accuracy\",max(history.history[\"val_accuracy\"]))\n",
    "    pd.DataFrame(history.history).plot(figsize=(12,6))\n",
    "    plt.show()"
   ]
  },
  {
   "cell_type": "code",
   "execution_count": 37,
   "metadata": {},
   "outputs": [
    {
     "name": "stdout",
     "output_type": "stream",
     "text": [
      "Model: \"sequential_1\"\n",
      "_________________________________________________________________\n",
      " Layer (type)                Output Shape              Param #   \n",
      "=================================================================\n",
      " dense_5 (Dense)             (None, 512)               29696     \n",
      "                                                                 \n",
      " dropout_4 (Dropout)         (None, 512)               0         \n",
      "                                                                 \n",
      " dense_6 (Dense)             (None, 256)               131328    \n",
      "                                                                 \n",
      " dropout_5 (Dropout)         (None, 256)               0         \n",
      "                                                                 \n",
      " dense_7 (Dense)             (None, 128)               32896     \n",
      "                                                                 \n",
      " dropout_6 (Dropout)         (None, 128)               0         \n",
      "                                                                 \n",
      " dense_8 (Dense)             (None, 64)                8256      \n",
      "                                                                 \n",
      " dropout_7 (Dropout)         (None, 64)                0         \n",
      "                                                                 \n",
      " dense_9 (Dense)             (None, 2)                 130       \n",
      "                                                                 \n",
      "=================================================================\n",
      "Total params: 202,306\n",
      "Trainable params: 202,306\n",
      "Non-trainable params: 0\n",
      "_________________________________________________________________\n",
      "None\n",
      "Epoch 1/100\n",
      "44/44 [==============================] - 1s 14ms/step - loss: 0.6237 - accuracy: 0.6521 - val_loss: 0.4768 - val_accuracy: 0.7955\n",
      "Epoch 2/100\n",
      "44/44 [==============================] - 0s 8ms/step - loss: 0.4341 - accuracy: 0.7979 - val_loss: 0.2711 - val_accuracy: 0.8990\n",
      "Epoch 3/100\n",
      "44/44 [==============================] - 0s 9ms/step - loss: 0.2928 - accuracy: 0.8829 - val_loss: 0.1918 - val_accuracy: 0.9293\n",
      "Epoch 4/100\n",
      "44/44 [==============================] - 0s 8ms/step - loss: 0.1739 - accuracy: 0.9350 - val_loss: 0.1791 - val_accuracy: 0.9318\n",
      "Epoch 5/100\n",
      "44/44 [==============================] - 0s 8ms/step - loss: 0.1081 - accuracy: 0.9643 - val_loss: 0.0532 - val_accuracy: 0.9874\n",
      "Epoch 6/100\n",
      "44/44 [==============================] - 0s 8ms/step - loss: 0.0844 - accuracy: 0.9693 - val_loss: 0.0711 - val_accuracy: 0.9722\n",
      "Epoch 7/100\n",
      "44/44 [==============================] - 0s 8ms/step - loss: 0.0512 - accuracy: 0.9843 - val_loss: 0.0553 - val_accuracy: 0.9773\n",
      "Epoch 8/100\n",
      "44/44 [==============================] - 0s 8ms/step - loss: 0.0496 - accuracy: 0.9821 - val_loss: 0.0829 - val_accuracy: 0.9798\n",
      "Epoch 9/100\n",
      "44/44 [==============================] - 0s 8ms/step - loss: 0.0864 - accuracy: 0.9693 - val_loss: 0.0727 - val_accuracy: 0.9773\n",
      "Epoch 10/100\n",
      "44/44 [==============================] - 0s 8ms/step - loss: 0.0466 - accuracy: 0.9850 - val_loss: 0.0410 - val_accuracy: 0.9924\n",
      "Epoch 11/100\n",
      "44/44 [==============================] - 0s 10ms/step - loss: 0.0311 - accuracy: 0.9886 - val_loss: 0.0655 - val_accuracy: 0.9773\n",
      "Epoch 12/100\n",
      "44/44 [==============================] - 0s 8ms/step - loss: 0.0253 - accuracy: 0.9900 - val_loss: 0.1223 - val_accuracy: 0.9747\n",
      "Epoch 13/100\n",
      "44/44 [==============================] - 0s 8ms/step - loss: 0.0428 - accuracy: 0.9864 - val_loss: 0.0783 - val_accuracy: 0.9823\n",
      "Epoch 14/100\n",
      "44/44 [==============================] - 0s 8ms/step - loss: 0.0327 - accuracy: 0.9900 - val_loss: 0.0419 - val_accuracy: 0.9874\n",
      "Epoch 15/100\n",
      "44/44 [==============================] - 0s 8ms/step - loss: 0.0223 - accuracy: 0.9921 - val_loss: 0.0348 - val_accuracy: 0.9949\n",
      "Epoch 16/100\n",
      "44/44 [==============================] - 0s 9ms/step - loss: 0.0094 - accuracy: 0.9971 - val_loss: 0.0473 - val_accuracy: 0.9874\n",
      "Epoch 17/100\n",
      "44/44 [==============================] - 0s 9ms/step - loss: 0.0123 - accuracy: 0.9971 - val_loss: 0.0574 - val_accuracy: 0.9848\n",
      "Epoch 18/100\n",
      "44/44 [==============================] - 0s 8ms/step - loss: 0.0129 - accuracy: 0.9964 - val_loss: 0.0813 - val_accuracy: 0.9823\n",
      "Epoch 19/100\n",
      "44/44 [==============================] - 0s 7ms/step - loss: 0.0245 - accuracy: 0.9929 - val_loss: 0.1053 - val_accuracy: 0.9697\n"
     ]
    }
   ],
   "source": [
    "model = k.models.Sequential([\n",
    "    k.layers.Dense(512, activation='relu', input_shape=(X_train.shape[1],)),\n",
    "    k.layers.Dropout(0.2),\n",
    "    \n",
    "    k.layers.Dense(256, activation='relu'),\n",
    "    k.layers.Dropout(0.2),\n",
    "\n",
    "    k.layers.Dense(128, activation='relu'),\n",
    "    k.layers.Dropout(0.2),\n",
    "\n",
    "    k.layers.Dense(64, activation='relu'),\n",
    "    k.layers.Dropout(0.2),\n",
    "\n",
    "    k.layers.Dense(len(label_index.keys()), activation='softmax'),\n",
    "])\n",
    "print(model.summary())\n",
    "history = trainModel(model=model, epochs=100, optimizer='adam')"
   ]
  },
  {
   "cell_type": "code",
   "execution_count": 38,
   "metadata": {},
   "outputs": [
    {
     "name": "stdout",
     "output_type": "stream",
     "text": [
      "Max. Validation Accuracy 0.9949495196342468\n"
     ]
    },
    {
     "data": {
      "image/png": "[encoded data removed]",
      "text/plain": [
       "<Figure size 864x432 with 1 Axes>"
      ]
     },
     "metadata": {
      "needs_background": "light"
     },
     "output_type": "display_data"
    }
   ],
   "source": [
    "plotHistory(history)"
   ]
  },
  {
   "cell_type": "code",
   "execution_count": 39,
   "metadata": {},
   "outputs": [
    {
     "name": "stdout",
     "output_type": "stream",
     "text": [
      "2/2 [==============================] - 0s 5ms/step - loss: 0.1212 - accuracy: 0.9510\n",
      "The test Loss is : 0.12116332352161407\n",
      "\n",
      "The Best test Accuracy is : 95.09803652763367\n"
     ]
    }
   ],
   "source": [
    "test_loss, test_acc  = model.evaluate(X_test, y_test, batch_size=128)\n",
    "print(\"The test Loss is :\",test_loss)\n",
    "print(\"\\nThe Best test Accuracy is :\",test_acc*100)"
   ]
  },
  {
   "cell_type": "code",
   "execution_count": 41,
   "metadata": {},
   "outputs": [],
   "source": [
    "import pickle\n",
    "import joblib\n",
    "\n",
    "model.save( os.path.join(config.sub_dir, \"model.h5\"))\n",
    "joblib.dump(scaler , os.path.join(config.sub_dir, \"scaler.pkl\"))     # save to disk\n",
    "with open(os.path.join(config.sub_dir, \"labels.pkl\"), \"wb\") as a_file:\n",
    "    pickle.dump(index_label, a_file)"
   ]
  }
 ],
 "metadata": {
  "interpreter": {
   "hash": "d669948995aefc1c7740d919433ecc7c57cb8b49d716c9781bcf5ee3c9927de4"
  },
  "kernelspec": {
   "display_name": "Python 3.8.13 ('base')",
   "language": "python",
   "name": "python3"
  },
  "language_info": {
   "codemirror_mode": {
    "name": "ipython",
    "version": 3
   },
   "file_extension": ".py",
   "mimetype": "text/x-python",
   "name": "python",
   "nbconvert_exporter": "python",
   "pygments_lexer": "ipython3",
   "version": "3.8.13"
  },
  "orig_nbformat": 4
 },
 "nbformat": 4,
 "nbformat_minor": 2
}
