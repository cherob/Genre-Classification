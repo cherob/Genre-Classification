{
 "cells": [
  {
   "cell_type": "code",
   "execution_count": 23,
   "metadata": {},
   "outputs": [],
   "source": [
    "import os\n",
    "from tqdm import tqdm\n",
    "\n",
    "from src.Utility import loadDir\n",
    "from src.Analysis import Analysis\n",
    "from src.Database import Database"
   ]
  },
  {
   "cell_type": "code",
   "execution_count": 24,
   "metadata": {},
   "outputs": [
    {
     "name": "stdout",
     "output_type": "stream",
     "text": [
      "['Shriek', 'UKay']\n"
     ]
    }
   ],
   "source": [
    "class Config:\n",
    "    tracks = 100\n",
    "    segments = 10\n",
    "    seconds = 3\n",
    "    rate = 22050\n",
    "    data_dir = 'data'\n",
    "    lib_dir = 'D:\\\\Musik\\\\Genres\\\\'\n",
    "    genres = [e for e in os.listdir(lib_dir) if e not in ['Trash', 'Other', 'JumpUp', \n",
    "               'Hiphop','Disco', 'Rock', 'Blues', 'Classical', 'Country', 'Reggae', 'Jazz', 'Metal', 'Pop',\n",
    "               'DnB', \n",
    "            #    'Crossbread', 'Neurofunk', 'Sambass', 'Jungle', 'Drumstep', 'Deep', 'Liquid', 'Minimal', 'Dancefloor',\n",
    "            #    'JumpUp', \n",
    "               'Techno', 'Goa', 'PsyTrance', \n",
    "               'Hardtekk', 'Riddim', 'Breakcore', 'Dubstep']]\n",
    "    sub_dir = os.path.join(data_dir, f'{tracks}x{segments}x{seconds}-{len(genres)}')\n",
    "    seed = 42\n",
    "config = Config()\n",
    "print(config.genres)"
   ]
  },
  {
   "cell_type": "code",
   "execution_count": 25,
   "metadata": {},
   "outputs": [],
   "source": [
    "def isAcceptedFormat(file: str) -> bool:\n",
    "    return os.path.splitext(file)[-1] in ['.wav', '.mp3']"
   ]
  },
  {
   "cell_type": "code",
   "execution_count": 26,
   "metadata": {},
   "outputs": [
    {
     "name": "stdout",
     "output_type": "stream",
     "text": [
      " -> 1.\tShriek: satisfied with 1000 rows.\n",
      " -> 2.\tUKay: satisfied with 1000 rows.\n"
     ]
    }
   ],
   "source": [
    "db = Database(config.sub_dir)\n",
    "for index_dir, dir in enumerate(config.genres):\n",
    "    files, genre = loadDir(os.path.join(config.lib_dir, dir))\n",
    "    db.update(genre)\n",
    "    if(len(files) == 0):\n",
    "        print(f' -> {index_dir + 1}.\\t{genre}: empty.')\n",
    "        continue\n",
    "\n",
    "    if(len(files) < config.tracks):\n",
    "        print( f' -> {index_dir + 1}.\\t{genre}: missing {config.tracks - len(files)}')\n",
    "        continue\n",
    "\n",
    "    if (db.count('label', genre) / config.segments >= config.tracks):\n",
    "        print(f' -> {index_dir + 1}.\\t{genre}: satisfied with {db.count(\"label\", genre)} rows.')\n",
    "        continue\n",
    "\n",
    "    __bar = tqdm(total=(config.tracks) * config.segments, \n",
    "                 desc=f' -> {index_dir + 1}.\\t{genre}:',\n",
    "                 bar_format=\"{desc}\\t{bar:20} {n_fmt}/{total_fmt} [{elapsed} -> {remaining}]\",\n",
    "                 initial=db.count('label', genre))\n",
    "\n",
    "    for file_path in files:\n",
    "        if(db.count('label', genre) / config.segments >= config.tracks):\n",
    "            break\n",
    "\n",
    "        # if not isAcceptedFormat(file_path):\n",
    "        #     continue\n",
    "\n",
    "        if(db.alreadyExsist(file_path)):\n",
    "            continue \n",
    "\n",
    "        try:\n",
    "            alyis = Analysis(audio_path=file_path, options=config, _bar = __bar)\n",
    "            db.push(alyis.calculate(), file_path)\n",
    "        except Exception:\n",
    "            continue\n",
    "\n",
    "\n",
    "        db.save()\n",
    "    __bar.close()"
   ]
  }
 ],
 "metadata": {
  "interpreter": {
   "hash": "d669948995aefc1c7740d919433ecc7c57cb8b49d716c9781bcf5ee3c9927de4"
  },
  "kernelspec": {
   "display_name": "Python 3.8.13 ('base')",
   "language": "python",
   "name": "python3"
  },
  "language_info": {
   "codemirror_mode": {
    "name": "ipython",
    "version": 3
   },
   "file_extension": ".py",
   "mimetype": "text/x-python",
   "name": "python",
   "nbconvert_exporter": "python",
   "pygments_lexer": "ipython3",
   "version": "3.8.13"
  },
  "orig_nbformat": 4
 },
 "nbformat": 4,
 "nbformat_minor": 2
}
