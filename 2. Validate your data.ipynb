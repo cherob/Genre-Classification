{
 "cells": [
  {
   "cell_type": "code",
   "execution_count": null,
   "metadata": {},
   "outputs": [],
   "source": [
    "from src.core.Validation import Validation\n",
    "%matplotlib inline"
   ]
  },
  {
   "cell_type": "code",
   "execution_count": null,
   "metadata": {},
   "outputs": [],
   "source": [
    "val = Validation(segments = 3, tracks = 100, offset = 30, seconds = 30)\n",
    "val.loadDataFrameFile()\n",
    "# val.normalizeDataFrame() \n",
    "val.generateBPMPlot()\n",
    "val.generateInformation()\n",
    "val.generateImportancePlot()\n",
    "# val.generateMissingValues()\n",
    "val.generateHeadMap()\n",
    "val.generateOldPCACharts()"
   ]
  }
 ],
 "metadata": {
  "kernelspec": {
   "display_name": "Python 3.8.13 ('base')",
   "language": "python",
   "name": "python3"
  },
  "language_info": {
   "codemirror_mode": {
    "name": "ipython",
    "version": 3
   },
   "file_extension": ".py",
   "mimetype": "text/x-python",
   "name": "python",
   "nbconvert_exporter": "python",
   "pygments_lexer": "ipython3",
   "version": "3.8.13"
  },
  "orig_nbformat": 4,
  "vscode": {
   "interpreter": {
    "hash": "66887cb6b0fecaeb021b7b4d78aaefc960d0e58c2264a73e75f872185525bde4"
   }
  }
 },
 "nbformat": 4,
 "nbformat_minor": 2
}
