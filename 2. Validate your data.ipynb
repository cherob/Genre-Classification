{
 "cells": [
  {
   "cell_type": "code",
   "execution_count": 1,
   "metadata": {},
   "outputs": [
    {
     "data": {
      "text/html": [
       "        <script type=\"text/javascript\">\n",
       "        window.PlotlyConfig = {MathJaxConfig: 'local'};\n",
       "        if (window.MathJax) {MathJax.Hub.Config({SVG: {font: \"STIX-Web\"}});}\n",
       "        if (typeof require !== 'undefined') {\n",
       "        require.undef(\"plotly\");\n",
       "        requirejs.config({\n",
       "            paths: {\n",
       "                'plotly': ['https://cdn.plot.ly/plotly-2.11.1.min']\n",
       "            }\n",
       "        });\n",
       "        require(['plotly'], function(Plotly) {\n",
       "            window._Plotly = Plotly;\n",
       "        });\n",
       "        }\n",
       "        </script>\n",
       "        "
      ]
     },
     "metadata": {},
     "output_type": "display_data"
    }
   ],
   "source": [
    "from src.core.Validation import Validation\n",
    "%matplotlib inline"
   ]
  },
  {
   "cell_type": "code",
   "execution_count": 2,
   "metadata": {},
   "outputs": [
    {
     "name": "stdout",
     "output_type": "stream",
     "text": [
      "Data Directory: data\\s-3\n"
     ]
    },
    {
     "ename": "AttributeError",
     "evalue": "'DataFrame' object has no attribute 'label'",
     "output_type": "error",
     "traceback": [
      "\u001b[1;31m---------------------------------------------------------------------------\u001b[0m",
      "\u001b[1;31mAttributeError\u001b[0m                            Traceback (most recent call last)",
      "\u001b[1;32mc:\\Users\\robin\\.mega\\Coding\\Python\\Genre-Classification\\2. Validate your data.ipynb Cell 2'\u001b[0m in \u001b[0;36m<cell line: 3>\u001b[1;34m()\u001b[0m\n\u001b[0;32m      <a href='vscode-notebook-cell:/c%3A/Users/robin/.mega/Coding/Python/Genre-Classification/2.%20Validate%20your%20data.ipynb#ch0000001?line=0'>1</a>\u001b[0m val \u001b[39m=\u001b[39m Validation(seconds \u001b[39m=\u001b[39m \u001b[39m3\u001b[39m)\n\u001b[0;32m      <a href='vscode-notebook-cell:/c%3A/Users/robin/.mega/Coding/Python/Genre-Classification/2.%20Validate%20your%20data.ipynb#ch0000001?line=1'>2</a>\u001b[0m val\u001b[39m.\u001b[39mloadDataFrameFile()\n\u001b[1;32m----> <a href='vscode-notebook-cell:/c%3A/Users/robin/.mega/Coding/Python/Genre-Classification/2.%20Validate%20your%20data.ipynb#ch0000001?line=2'>3</a>\u001b[0m val\u001b[39m.\u001b[39;49mnormalizeDataFrame() \n\u001b[0;32m      <a href='vscode-notebook-cell:/c%3A/Users/robin/.mega/Coding/Python/Genre-Classification/2.%20Validate%20your%20data.ipynb#ch0000001?line=3'>4</a>\u001b[0m val\u001b[39m.\u001b[39mgenerateBPMPlot()\n\u001b[0;32m      <a href='vscode-notebook-cell:/c%3A/Users/robin/.mega/Coding/Python/Genre-Classification/2.%20Validate%20your%20data.ipynb#ch0000001?line=4'>5</a>\u001b[0m val\u001b[39m.\u001b[39mgenerateInformation()\n",
      "File \u001b[1;32mc:\\Users\\robin\\.mega\\Coding\\Python\\Genre-Classification\\src\\core\\Base.py:40\u001b[0m, in \u001b[0;36mBase.normalizeDataFrame\u001b[1;34m(self)\u001b[0m\n\u001b[0;32m     <a href='file:///c%3A/Users/robin/.mega/Coding/Python/Genre-Classification/src/core/Base.py?line=38'>39</a>\u001b[0m \u001b[39mdef\u001b[39;00m \u001b[39mnormalizeDataFrame\u001b[39m(\u001b[39mself\u001b[39m):  \u001b[39m# sourcery skip: avoid-builtin-shadow\u001b[39;00m\n\u001b[1;32m---> <a href='file:///c%3A/Users/robin/.mega/Coding/Python/Genre-Classification/src/core/Base.py?line=39'>40</a>\u001b[0m     \u001b[39mmin\u001b[39m \u001b[39m=\u001b[39m \u001b[39mself\u001b[39;49m\u001b[39m.\u001b[39;49mdf\u001b[39m.\u001b[39;49mlabel\u001b[39m.\u001b[39mvalue_counts()\u001b[39m.\u001b[39mmin()\n\u001b[0;32m     <a href='file:///c%3A/Users/robin/.mega/Coding/Python/Genre-Classification/src/core/Base.py?line=40'>41</a>\u001b[0m     \u001b[39mself\u001b[39m\u001b[39m.\u001b[39mdf \u001b[39m=\u001b[39m \u001b[39mself\u001b[39m\u001b[39m.\u001b[39mdf\u001b[39m.\u001b[39mgroupby(\u001b[39m'\u001b[39m\u001b[39mlabel\u001b[39m\u001b[39m'\u001b[39m)\u001b[39m.\u001b[39mhead(\u001b[39mmin\u001b[39m)\u001b[39m.\u001b[39mreset_index()\n\u001b[0;32m     <a href='file:///c%3A/Users/robin/.mega/Coding/Python/Genre-Classification/src/core/Base.py?line=41'>42</a>\u001b[0m     \u001b[39mself\u001b[39m\u001b[39m.\u001b[39mSAVE_ENABLED \u001b[39m=\u001b[39m \u001b[39mFalse\u001b[39;00m\n",
      "File \u001b[1;32md:\\Devtools\\miniconda\\lib\\site-packages\\pandas\\core\\generic.py:5575\u001b[0m, in \u001b[0;36mNDFrame.__getattr__\u001b[1;34m(self, name)\u001b[0m\n\u001b[0;32m   <a href='file:///d%3A/Devtools/miniconda/lib/site-packages/pandas/core/generic.py?line=5567'>5568</a>\u001b[0m \u001b[39mif\u001b[39;00m (\n\u001b[0;32m   <a href='file:///d%3A/Devtools/miniconda/lib/site-packages/pandas/core/generic.py?line=5568'>5569</a>\u001b[0m     name \u001b[39mnot\u001b[39;00m \u001b[39min\u001b[39;00m \u001b[39mself\u001b[39m\u001b[39m.\u001b[39m_internal_names_set\n\u001b[0;32m   <a href='file:///d%3A/Devtools/miniconda/lib/site-packages/pandas/core/generic.py?line=5569'>5570</a>\u001b[0m     \u001b[39mand\u001b[39;00m name \u001b[39mnot\u001b[39;00m \u001b[39min\u001b[39;00m \u001b[39mself\u001b[39m\u001b[39m.\u001b[39m_metadata\n\u001b[0;32m   <a href='file:///d%3A/Devtools/miniconda/lib/site-packages/pandas/core/generic.py?line=5570'>5571</a>\u001b[0m     \u001b[39mand\u001b[39;00m name \u001b[39mnot\u001b[39;00m \u001b[39min\u001b[39;00m \u001b[39mself\u001b[39m\u001b[39m.\u001b[39m_accessors\n\u001b[0;32m   <a href='file:///d%3A/Devtools/miniconda/lib/site-packages/pandas/core/generic.py?line=5571'>5572</a>\u001b[0m     \u001b[39mand\u001b[39;00m \u001b[39mself\u001b[39m\u001b[39m.\u001b[39m_info_axis\u001b[39m.\u001b[39m_can_hold_identifiers_and_holds_name(name)\n\u001b[0;32m   <a href='file:///d%3A/Devtools/miniconda/lib/site-packages/pandas/core/generic.py?line=5572'>5573</a>\u001b[0m ):\n\u001b[0;32m   <a href='file:///d%3A/Devtools/miniconda/lib/site-packages/pandas/core/generic.py?line=5573'>5574</a>\u001b[0m     \u001b[39mreturn\u001b[39;00m \u001b[39mself\u001b[39m[name]\n\u001b[1;32m-> <a href='file:///d%3A/Devtools/miniconda/lib/site-packages/pandas/core/generic.py?line=5574'>5575</a>\u001b[0m \u001b[39mreturn\u001b[39;00m \u001b[39mobject\u001b[39;49m\u001b[39m.\u001b[39;49m\u001b[39m__getattribute__\u001b[39;49m(\u001b[39mself\u001b[39;49m, name)\n",
      "\u001b[1;31mAttributeError\u001b[0m: 'DataFrame' object has no attribute 'label'"
     ]
    }
   ],
   "source": [
    "val = Validation(seconds = 3)\n",
    "val.loadDataFrameFile()\n",
    "val.normalizeDataFrame() \n",
    "val.generateBPMPlot()\n",
    "val.generateInformation()\n",
    "# val.generateImportancePlot()\n",
    "# val.generateMissingValues()\n",
    "val.generateHeadMapVar()\n",
    "val.generateHeadMapMean()\n",
    "val.generateOldPCACharts()"
   ]
  }
 ],
 "metadata": {
  "kernelspec": {
   "display_name": "Python 3.8.13 ('base')",
   "language": "python",
   "name": "python3"
  },
  "language_info": {
   "codemirror_mode": {
    "name": "ipython",
    "version": 3
   },
   "file_extension": ".py",
   "mimetype": "text/x-python",
   "name": "python",
   "nbconvert_exporter": "python",
   "pygments_lexer": "ipython3",
   "version": "3.8.13"
  },
  "orig_nbformat": 4,
  "vscode": {
   "interpreter": {
    "hash": "66887cb6b0fecaeb021b7b4d78aaefc960d0e58c2264a73e75f872185525bde4"
   }
  }
 },
 "nbformat": 4,
 "nbformat_minor": 2
}
