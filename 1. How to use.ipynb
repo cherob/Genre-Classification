{
 "cells": [
  {
   "cell_type": "markdown",
   "metadata": {},
   "source": [
    "# Usage of the Classification Tool"
   ]
  },
  {
   "cell_type": "code",
   "execution_count": 1,
   "metadata": {},
   "outputs": [],
   "source": [
    "from src.libraryAnalysier import LibraryAnalysier"
   ]
  },
  {
   "cell_type": "code",
   "execution_count": 2,
   "metadata": {},
   "outputs": [
    {
     "name": "stdout",
     "output_type": "stream",
     "text": [
      "Initialized library: Dancefloor, Deep, Jungle, Liquid, Minimal, Neurofunk, Sambass, Shriek, Techno\n"
     ]
    },
    {
     "name": "stderr",
     "output_type": "stream",
     "text": [
      " -> 1.\tDancefloor:\t████████████████████ 2000/2000 [23:08 -> 00:00]\n",
      " -> 2.\tDeep:\t████████████████████ 2000/2000 [24:59 -> 00:00]\n",
      " -> 3.\tJungle:\t████████████████████ 2000/2000 [18:51 -> 00:00]\n",
      " -> 4.\tLiquid:\t████████████████████ 2000/2000 [24:43 -> 00:00]\n",
      " -> 5.\tMinimal:\t████████████████████ 2000/2000 [30:16 -> 00:00]\n",
      " -> 6.\tNeurofunk:\t████████████████████ 2000/2000 [31:04 -> 00:00]\n",
      " -> 7.\tSambass:\t████████████████████ 2000/2000 [26:21 -> 00:00]\n",
      " -> 8.\tShriek:\t████████████████████ 2000/2000 [38:02 -> 00:00]\n",
      " -> 9.\tTechno:\t████████████████████ 2000/2000 [29:21 -> 00:00] \n"
     ]
    }
   ],
   "source": [
    "liblys = LibraryAnalysier(library=\"D:\\\\Musik\\\\Genres\\\\\", include = [\n",
    "        \"Sambass\",\n",
    "        \"Deep\",\n",
    "        \"Techno\",\n",
    "        \"Dancefloor\",\n",
    "        \"Minimal\",\n",
    "        \"Neurofunk\",\n",
    "        \"Shriek\",\n",
    "        \"Liquid\",\n",
    "        \"Jungle\"\n",
    "    ]\n",
    ")"
   ]
  },
  {
   "cell_type": "code",
   "execution_count": null,
   "metadata": {},
   "outputs": [],
   "source": [
    "liblys.loadStructureFromLibrary"
   ]
  }
 ],
 "metadata": {
  "interpreter": {
   "hash": "d669948995aefc1c7740d919433ecc7c57cb8b49d716c9781bcf5ee3c9927de4"
  },
  "kernelspec": {
   "display_name": "Python 3.8.13 ('base')",
   "language": "python",
   "name": "python3"
  },
  "language_info": {
   "codemirror_mode": {
    "name": "ipython",
    "version": 3
   },
   "file_extension": ".py",
   "mimetype": "text/x-python",
   "name": "python",
   "nbconvert_exporter": "python",
   "pygments_lexer": "ipython3",
   "version": "3.8.13"
  },
  "orig_nbformat": 4
 },
 "nbformat": 4,
 "nbformat_minor": 2
}
