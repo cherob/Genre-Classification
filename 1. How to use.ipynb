{
 "cells": [
  {
   "cell_type": "markdown",
   "metadata": {},
   "source": [
    "# Usage of the Classification Tool"
   ]
  },
  {
   "cell_type": "code",
   "execution_count": 4,
   "metadata": {},
   "outputs": [],
   "source": [
    "from src.libraryAnalysier import LibraryAnalysier"
   ]
  },
  {
   "cell_type": "code",
   "execution_count": 6,
   "metadata": {},
   "outputs": [
    {
     "name": "stdout",
     "output_type": "stream",
     "text": [
      "Initialized library: Basement, Chill, Deep, Diffrent, Push, Vibe\n"
     ]
    }
   ],
   "source": [
    "liblys = LibraryAnalysier(library=\"D://Emotion Test//\", include = [\n",
    "        \"Basement\",\n",
    "        \"Chill\",\n",
    "        \"Deep\",\n",
    "        \"Diffrent\",\n",
    "        \"Push\",\n",
    "        \"Vibe\"\n",
    "    ]\n",
    ")"
   ]
  },
  {
   "cell_type": "code",
   "execution_count": 7,
   "metadata": {},
   "outputs": [
    {
     "name": "stderr",
     "output_type": "stream",
     "text": [
      " -> 1.\tBasement:\t████████████████████ 200/200 [03:12 -> 00:00]\n",
      " -> 2.\tChill:\t█████████████▌       136/200 [02:05 -> 00:56]"
     ]
    }
   ],
   "source": [
    "liblys.loadStructureFromLibrary()"
   ]
  }
 ],
 "metadata": {
  "interpreter": {
   "hash": "d669948995aefc1c7740d919433ecc7c57cb8b49d716c9781bcf5ee3c9927de4"
  },
  "kernelspec": {
   "display_name": "Python 3.8.13 ('base')",
   "language": "python",
   "name": "python3"
  },
  "language_info": {
   "codemirror_mode": {
    "name": "ipython",
    "version": 3
   },
   "file_extension": ".py",
   "mimetype": "text/x-python",
   "name": "python",
   "nbconvert_exporter": "python",
   "pygments_lexer": "ipython3",
   "version": "3.8.13"
  },
  "orig_nbformat": 4
 },
 "nbformat": 4,
 "nbformat_minor": 2
}
