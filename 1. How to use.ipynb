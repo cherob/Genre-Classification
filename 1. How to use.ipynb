{
 "cells": [
  {
   "cell_type": "markdown",
   "metadata": {},
   "source": [
    "# Usage of the Classification Tool"
   ]
  },
  {
   "cell_type": "code",
   "execution_count": 1,
   "metadata": {},
   "outputs": [],
   "source": [
    "from src.libraryAnalysier import LibraryAnalysier"
   ]
  },
  {
   "cell_type": "code",
   "execution_count": 2,
   "metadata": {},
   "outputs": [
    {
     "name": "stdout",
     "output_type": "stream",
     "text": [
      "Initialized library: Dancefloor, Deep, Jungle, Liquid, Minimal, Neurofunk, Sambass, Shriek, Techno\n"
     ]
    },
    {
     "name": "stderr",
     "output_type": "stream",
     "text": [
      " -> 1.\tDancefloor:\t████████████████████ 20/20 [00:17 -> 00:00]\n",
      " -> 2.\tDeep:\t████████████████████ 20/20 [00:12 -> 00:00]\n",
      " -> 3.\tJungle:\t████████████████████ 20/20 [00:09 -> 00:00]\n",
      " -> 4.\tLiquid:\t████████████████████ 20/20 [00:14 -> 00:00]\n",
      " -> 5.\tMinimal:\t████████████████████ 20/20 [00:14 -> 00:00]\n",
      " -> 6.\tNeurofunk:\t████████████████████ 20/20 [00:14 -> 00:00]\n",
      " -> 7.\tSambass:\t████████████████████ 20/20 [00:14 -> 00:00]\n",
      " -> 8.\tShriek:\t████████████████████ 20/20 [00:14 -> 00:00]\n",
      " -> 9.\tTechno:\t████████████████████ 20/20 [00:13 -> 00:00]\n"
     ]
    }
   ],
   "source": [
    "liblys = LibraryAnalysier(library=\"D:\\\\Musik\\\\Genres\\\\\", include = [\n",
    "        \"Sambass\",\n",
    "        \"Deep\",\n",
    "        \"Techno\",\n",
    "        \"Dancefloor\",\n",
    "        \"Minimal\",\n",
    "        \"Neurofunk\",\n",
    "        \"Shriek\",\n",
    "        \"Liquid\",\n",
    "        \"Jungle\"\n",
    "    ]\n",
    ")"
   ]
  }
 ],
 "metadata": {
  "interpreter": {
   "hash": "d669948995aefc1c7740d919433ecc7c57cb8b49d716c9781bcf5ee3c9927de4"
  },
  "kernelspec": {
   "display_name": "Python 3.8.13 ('base')",
   "language": "python",
   "name": "python3"
  },
  "language_info": {
   "codemirror_mode": {
    "name": "ipython",
    "version": 3
   },
   "file_extension": ".py",
   "mimetype": "text/x-python",
   "name": "python",
   "nbconvert_exporter": "python",
   "pygments_lexer": "ipython3",
   "version": "3.8.13"
  },
  "orig_nbformat": 4
 },
 "nbformat": 4,
 "nbformat_minor": 2
}
