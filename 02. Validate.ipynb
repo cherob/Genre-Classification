{
 "cells": [
  {
   "cell_type": "code",
   "execution_count": null,
   "metadata": {},
   "outputs": [],
   "source": [
    "import os\n",
    "# import imp\n",
    "import sklearn.preprocessing as skp\n",
    "import matplotlib.pyplot as plt\n",
    "import seaborn as sns\n",
    "sns.set_style('whitegrid')\n",
    "import warnings\n",
    "warnings.filterwarnings('ignore')\n",
    "import numpy as np\n",
    "import librosa.display\n",
    "import librosa\n",
    "import pandas as pd\n",
    "import os\n",
    "from matplotlib import cm, colors, pyplot as plt\n",
    "\n",
    "import IPython \n",
    "from IPython.display import display\n",
    "\n",
    "import numpy as np\n",
    "import pandas as pd\n",
    "\n",
    "import librosa \n",
    "import librosa.display\n",
    "\n",
    "%matplotlib inline\n",
    "from sklearn.preprocessing import minmax_scale"
   ]
  },
  {
   "cell_type": "code",
   "execution_count": null,
   "metadata": {},
   "outputs": [],
   "source": [
    "# class Config:\n",
    "#     tracks = 100\n",
    "#     segments = 10\n",
    "#     seconds = 3\n",
    "#     rate = 22050\n",
    "#     data_dir = 'data'\n",
    "#     lib_dir = 'D:\\\\Musik\\\\Genres\\\\'\n",
    "#     exc_dir = ['DnB', 'Trash', 'Other', 'JumpUp']\n",
    "#     sub_dir = os.path.join(data_dir, f'{tracks}x{segments}x{seconds}')\n",
    "# config = Config()"
   ]
  },
  {
   "cell_type": "code",
   "execution_count": null,
   "metadata": {},
   "outputs": [],
   "source": [
    "class Config:\n",
    "    tracks = 1\n",
    "    segments = 100\n",
    "    seconds = 3\n",
    "    rate = 22050\n",
    "    data_dir = 'data'\n",
    "    lib_dir = 'D:\\\\Musik\\\\Genres\\\\'\n",
    "    exc_dir = ['DnB', 'Trash', 'Other', 'JumpUp']\n",
    "    sub_dir = os.path.join(data_dir, f'{tracks}x{segments}x{seconds}')\n",
    "config = Config()"
   ]
  },
  {
   "cell_type": "code",
   "execution_count": null,
   "metadata": {},
   "outputs": [],
   "source": [
    "from src.Database import Database\n",
    "\n",
    "db = Database(config.sub_dir)\n",
    "print(\"Dataset has\",db.df.shape)\n",
    "print(\"Count of Positive and Negative samples\")\n",
    "db.df.label.value_counts().reset_index()\n",
    "\n"
   ]
  },
  {
   "cell_type": "code",
   "execution_count": null,
   "metadata": {},
   "outputs": [],
   "source": [
    "# SELECTED = ['Jazz', 'Classical', 'Hiphop', 'Disco', 'Country', 'Blues']\n",
    "# db.df = db.df.loc[db.df['label'].isin(SELECTED)]\n",
    "df = db.df\n",
    "print(\"Dataset has\",df.shape)\n",
    "print(\"Count of Positive and Negative samples\")\n",
    "df.reset_index()"
   ]
  },
  {
   "cell_type": "code",
   "execution_count": null,
   "metadata": {},
   "outputs": [],
   "source": [
    "# Computing the Correlation Matrix\n",
    "spike_cols = [col for col in df.columns if 'mean' in col]\n",
    "corr = df[spike_cols].corr()\n",
    "\n",
    "# Generate a mask for the upper triangle\n",
    "mask = np.triu(np.ones_like(corr, dtype=np.bool))\n",
    "\n",
    "# Set up the matplotlib figure\n",
    "f, ax = plt.subplots(figsize=(16, 11));\n",
    "\n",
    "# Generate a custom diverging colormap\n",
    "cmap = sns.diverging_palette(0, 25, as_cmap=True, s = 90, l = 45, n = 5)\n",
    "\n",
    "# Draw the heatmap with the mask and correct aspect ratio\n",
    "sns.heatmap(corr, mask=mask, cmap=cmap, vmax=.3, center=0,\n",
    "            square=True, linewidths=.5, cbar_kws={\"shrink\": .5})\n",
    "\n",
    "plt.title('Correlation Heatmap (for the MEAN variables)', fontsize = 20)\n",
    "plt.xticks(fontsize = 10)\n",
    "plt.yticks(fontsize = 10)\n",
    "plt.savefig(os.path.join(config.sub_dir, \"Corr_Heatmap.png\"))"
   ]
  },
  {
   "cell_type": "code",
   "execution_count": null,
   "metadata": {},
   "outputs": [],
   "source": [
    "x = df[[\"label\", \"tempo\"]]\n",
    "\n",
    "fig, ax = plt.subplots(figsize=(16, 8));\n",
    "sns.boxplot(x = \"label\", y = \"tempo\", data = x, palette = 'husl');\n",
    "\n",
    "plt.title('BPM Boxplot for Genres', fontsize = 20)\n",
    "plt.xticks(fontsize = 14)\n",
    "plt.yticks(fontsize = 10)\n",
    "plt.xlabel(\"Genre\", fontsize = 15)\n",
    "plt.ylabel(\"BPM\", fontsize = 15)\n",
    "plt.savefig(os.path.join(config.sub_dir, \"BPM_Boxplot.png\"))"
   ]
  },
  {
   "cell_type": "code",
   "execution_count": null,
   "metadata": {},
   "outputs": [],
   "source": [
    "data = df.iloc[0:, 1:]\n",
    "y = data['label']\n",
    "X = data.loc[:, data.columns != 'label']\n",
    "\n",
    "# normalize\n",
    "cols = X.columns\n",
    "min_max_scaler = skp.MinMaxScaler()\n",
    "np_scaled = min_max_scaler.fit_transform(X)\n",
    "X = pd.DataFrame(np_scaled, columns = cols)\n",
    "\n",
    "# Top 2 pca components\n",
    "from sklearn.decomposition import PCA\n",
    "\n",
    "pca = PCA(n_components=2)\n",
    "principalComponents = pca.fit_transform(X)\n",
    "principalDf = pd.DataFrame(data = principalComponents, columns = ['pc1', 'pc2'])\n",
    "\n",
    "# concatenate with target label\n",
    "finalDf = pd.concat([principalDf, y], axis = 1)\n",
    "\n",
    "plt.figure(figsize = (16, 9))\n",
    "sns.scatterplot(x = \"pc1\", y = \"pc2\", data = finalDf, hue = \"label\", alpha = 0.7, s = 100);\n",
    "\n",
    "plt.title('PCA on Genres', fontsize = 20)\n",
    "plt.xticks(fontsize = 14)\n",
    "plt.yticks(fontsize = 10);\n",
    "plt.xlabel(\"Principal Component 1\", fontsize = 15)\n",
    "plt.ylabel(\"Principal Component 2\", fontsize = 15)\n",
    "plt.savefig(\"PCA_Scattert.png\")"
   ]
  }
 ],
 "metadata": {
  "interpreter": {
   "hash": "d669948995aefc1c7740d919433ecc7c57cb8b49d716c9781bcf5ee3c9927de4"
  },
  "kernelspec": {
   "display_name": "Python 3.8.13 ('base')",
   "language": "python",
   "name": "python3"
  },
  "language_info": {
   "codemirror_mode": {
    "name": "ipython",
    "version": 3
   },
   "file_extension": ".py",
   "mimetype": "text/x-python",
   "name": "python",
   "nbconvert_exporter": "python",
   "pygments_lexer": "ipython3",
   "version": "3.8.13"
  },
  "orig_nbformat": 4
 },
 "nbformat": 4,
 "nbformat_minor": 2
}
