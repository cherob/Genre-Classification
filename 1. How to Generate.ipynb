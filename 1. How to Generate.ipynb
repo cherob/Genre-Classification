{
 "cells": [
  {
   "cell_type": "code",
   "execution_count": 1,
   "metadata": {},
   "outputs": [],
   "source": [
    "from src.core.Classification import Classification"
   ]
  },
  {
   "cell_type": "code",
   "execution_count": 2,
   "metadata": {},
   "outputs": [
    {
     "name": "stdout",
     "output_type": "stream",
     "text": [
      "Data Directory: data\\s-3\n"
     ]
    },
    {
     "name": "stderr",
     "output_type": "stream",
     "text": [
      "Basement\t████████████████████ 1000/1000 [05:14 -> 00:00]\n",
      "Chill\t█████████████▊       689/1000 [07:49 -> 05:19]"
     ]
    }
   ],
   "source": [
    "cation = Classification(segments = 10, tracks = 100, offset = 10, seconds = 3)\n",
    "cation.loadAudioLibrary('D:/Emotion Test/')"
   ]
  }
 ],
 "metadata": {
  "kernelspec": {
   "display_name": "Python 3.8.13 ('base')",
   "language": "python",
   "name": "python3"
  },
  "language_info": {
   "codemirror_mode": {
    "name": "ipython",
    "version": 3
   },
   "file_extension": ".py",
   "mimetype": "text/x-python",
   "name": "python",
   "nbconvert_exporter": "python",
   "pygments_lexer": "ipython3",
   "version": "3.8.13"
  },
  "orig_nbformat": 4,
  "vscode": {
   "interpreter": {
    "hash": "66887cb6b0fecaeb021b7b4d78aaefc960d0e58c2264a73e75f872185525bde4"
   }
  }
 },
 "nbformat": 4,
 "nbformat_minor": 2
}
