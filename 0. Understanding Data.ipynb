{
 "cells": [
  {
   "cell_type": "code",
   "execution_count": 1,
   "metadata": {},
   "outputs": [],
   "source": [
    "import matplotlib.pyplot as plt\n",
    "import seaborn as sns\n",
    "sns.set_style('whitegrid')\n",
    "import warnings\n",
    "warnings.filterwarnings('ignore')\n",
    "import librosa.display\n",
    "import numpy as np"
   ]
  },
  {
   "cell_type": "code",
   "execution_count": null,
   "metadata": {},
   "outputs": [],
   "source": [
    "from src.segment import Segment\n",
    "sr = 22050"
   ]
  },
  {
   "cell_type": "code",
   "execution_count": null,
   "metadata": {},
   "outputs": [],
   "source": [
    "def parrallelAnalysis(a):\n",
    "    audio_data, sr = librosa.load(a, sr=22050)\n",
    "    librosa.display.waveshow(audio_data, x_axis='time')\n",
    "    \n",
    "    segment = Segment()\n",
    "    segment.load(a, offset=0, length = 30, target_sr=sr)\n",
    "    segment.addFeatures()\n",
    "    features = segment.results.keys()\n",
    "    for i, key in enumerate(segment.results.keys()):\n",
    "        feature = segment.results[key]\n",
    "        feature_shape = np.array(feature).shape\n",
    "        feature_type = type(feature)\n",
    "        if feature_type in [int] or feature_shape is ():\n",
    "            print(i, key, feature_type, feature_shape, feature)\n",
    "            continue\n",
    "        if(feature_shape[0] == 1):\n",
    "            feature = feature[0]\n",
    "            feature_shape = np.array(feature).shape\n",
    "            feature_type = type(feature)\n",
    "            \n",
    "        if(len(feature_shape) == 1):\n",
    "            print(i, key, feature_type, feature_shape)\n",
    "            fig, ax = plt.subplots()\n",
    "            img = librosa.display.waveshow(feature, x_axis='time', ax=ax)\n",
    "            ax.set(title=f'{key.title()}')\n",
    "        else:\n",
    "            print(i, key, feature_type, feature_shape)\n",
    "            fig, ax = plt.subplots()\n",
    "            img = librosa.display.specshow(feature, x_axis='time', y_axis='linear', ax=ax)\n",
    "            ax.set(title=f'{key.title()}')\n",
    "            fig.colorbar(img, ax=ax)\n",
    "            # fig.colorbar(img, ax=ax, format=\"%+2.f dB\")"
   ]
  },
  {
   "cell_type": "code",
   "execution_count": null,
   "metadata": {},
   "outputs": [],
   "source": [
    "parrallelAnalysis('D:/Musik/Genres/Blues/blues.00038.wav')"
   ]
  },
  {
   "cell_type": "code",
   "execution_count": null,
   "metadata": {},
   "outputs": [],
   "source": [
    "parrallelAnalysis('D:/Musik/Archive/cry_v2.mp3')"
   ]
  }
 ],
 "metadata": {
  "interpreter": {
   "hash": "d669948995aefc1c7740d919433ecc7c57cb8b49d716c9781bcf5ee3c9927de4"
  },
  "kernelspec": {
   "display_name": "Python 3.8.13 ('base')",
   "language": "python",
   "name": "python3"
  },
  "language_info": {
   "codemirror_mode": {
    "name": "ipython",
    "version": 3
   },
   "file_extension": ".py",
   "mimetype": "text/x-python",
   "name": "python",
   "nbconvert_exporter": "python",
   "pygments_lexer": "ipython3",
   "version": "3.8.13"
  },
  "orig_nbformat": 4
 },
 "nbformat": 4,
 "nbformat_minor": 2
}
