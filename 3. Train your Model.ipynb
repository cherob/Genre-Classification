{
 "cells": [
  {
   "cell_type": "markdown",
   "metadata": {},
   "source": [
    "# Reading & Understanding Data"
   ]
  },
  {
   "cell_type": "markdown",
   "metadata": {},
   "source": [
    "## Importing Libraries"
   ]
  },
  {
   "cell_type": "code",
   "execution_count": 28,
   "metadata": {},
   "outputs": [],
   "source": [
    "import numpy as np\n",
    "import pandas as pd\n",
    "import matplotlib.pyplot as plt\n",
    "import seaborn as sns\n",
    "sns.set_style('whitegrid')\n",
    "%matplotlib inline\n",
    "import warnings\n",
    "warnings.filterwarnings('ignore')\n",
    "import sklearn.model_selection as skms\n",
    "import sklearn.preprocessing as skp\n",
    "import os\n",
    "import IPython\n",
    "\n",
    "seed = 42\n",
    "np.random.seed(seed) \n",
    "# random.seed(seed)"
   ]
  },
  {
   "cell_type": "code",
   "execution_count": 29,
   "metadata": {},
   "outputs": [],
   "source": [
    "data_dir = './data/100x20x3/'"
   ]
  },
  {
   "cell_type": "markdown",
   "metadata": {},
   "source": [
    "### About the dataset"
   ]
  },
  {
   "cell_type": "code",
   "execution_count": 30,
   "metadata": {},
   "outputs": [],
   "source": [
    "from src.database import Database\n",
    "\n",
    "db = Database(data_dir)\n",
    "df = db.df"
   ]
  },
  {
   "cell_type": "code",
   "execution_count": 31,
   "metadata": {},
   "outputs": [
    {
     "data": {
      "text/html": [
       "<div>\n",
       "<style scoped>\n",
       "    .dataframe tbody tr th:only-of-type {\n",
       "        vertical-align: middle;\n",
       "    }\n",
       "\n",
       "    .dataframe tbody tr th {\n",
       "        vertical-align: top;\n",
       "    }\n",
       "\n",
       "    .dataframe thead th {\n",
       "        text-align: right;\n",
       "    }\n",
       "</style>\n",
       "<table border=\"1\" class=\"dataframe\">\n",
       "  <thead>\n",
       "    <tr style=\"text-align: right;\">\n",
       "      <th></th>\n",
       "      <th>filename</th>\n",
       "      <th>length</th>\n",
       "      <th>chroma_stft1_var</th>\n",
       "      <th>chroma_stft1_mean</th>\n",
       "      <th>chroma_stft2_var</th>\n",
       "      <th>chroma_stft2_mean</th>\n",
       "      <th>chroma_stft3_var</th>\n",
       "      <th>chroma_stft3_mean</th>\n",
       "      <th>chroma_stft4_var</th>\n",
       "      <th>chroma_stft4_mean</th>\n",
       "      <th>...</th>\n",
       "      <th>mfcc16_mean</th>\n",
       "      <th>mfcc17_var</th>\n",
       "      <th>mfcc17_mean</th>\n",
       "      <th>mfcc18_var</th>\n",
       "      <th>mfcc18_mean</th>\n",
       "      <th>mfcc19_var</th>\n",
       "      <th>mfcc19_mean</th>\n",
       "      <th>mfcc20_var</th>\n",
       "      <th>mfcc20_mean</th>\n",
       "      <th>label</th>\n",
       "    </tr>\n",
       "  </thead>\n",
       "  <tbody>\n",
       "    <tr>\n",
       "      <th>0</th>\n",
       "      <td>02TcHmrc537505824TcdnbMp3.0</td>\n",
       "      <td>63078.0</td>\n",
       "      <td>0.0</td>\n",
       "      <td>0.321759</td>\n",
       "      <td>0.0</td>\n",
       "      <td>0.726720</td>\n",
       "      <td>0.0</td>\n",
       "      <td>0.437948</td>\n",
       "      <td>0.0</td>\n",
       "      <td>0.330802</td>\n",
       "      <td>...</td>\n",
       "      <td>0.428932</td>\n",
       "      <td>36.298618</td>\n",
       "      <td>-5.597476</td>\n",
       "      <td>26.766903</td>\n",
       "      <td>1.345605</td>\n",
       "      <td>72.489861</td>\n",
       "      <td>3.253771</td>\n",
       "      <td>52.741318</td>\n",
       "      <td>7.256914</td>\n",
       "      <td>Dancefloor</td>\n",
       "    </tr>\n",
       "    <tr>\n",
       "      <th>1</th>\n",
       "      <td>02TcHmrc537505824TcdnbMp3.1</td>\n",
       "      <td>66150.0</td>\n",
       "      <td>0.0</td>\n",
       "      <td>0.327443</td>\n",
       "      <td>0.0</td>\n",
       "      <td>0.726267</td>\n",
       "      <td>0.0</td>\n",
       "      <td>0.438089</td>\n",
       "      <td>0.0</td>\n",
       "      <td>0.337510</td>\n",
       "      <td>...</td>\n",
       "      <td>0.349122</td>\n",
       "      <td>35.307343</td>\n",
       "      <td>-5.651783</td>\n",
       "      <td>25.953512</td>\n",
       "      <td>1.504927</td>\n",
       "      <td>70.632378</td>\n",
       "      <td>3.037568</td>\n",
       "      <td>53.111816</td>\n",
       "      <td>7.092544</td>\n",
       "      <td>Dancefloor</td>\n",
       "    </tr>\n",
       "    <tr>\n",
       "      <th>2</th>\n",
       "      <td>02TcHmrc537505824TcdnbMp3.2</td>\n",
       "      <td>66150.0</td>\n",
       "      <td>0.0</td>\n",
       "      <td>0.400691</td>\n",
       "      <td>0.0</td>\n",
       "      <td>0.712579</td>\n",
       "      <td>0.0</td>\n",
       "      <td>0.392655</td>\n",
       "      <td>0.0</td>\n",
       "      <td>0.356017</td>\n",
       "      <td>...</td>\n",
       "      <td>0.619886</td>\n",
       "      <td>34.498959</td>\n",
       "      <td>-5.697873</td>\n",
       "      <td>26.557186</td>\n",
       "      <td>1.491368</td>\n",
       "      <td>60.791534</td>\n",
       "      <td>3.364270</td>\n",
       "      <td>49.549961</td>\n",
       "      <td>7.211648</td>\n",
       "      <td>Dancefloor</td>\n",
       "    </tr>\n",
       "    <tr>\n",
       "      <th>3</th>\n",
       "      <td>02TcHmrc537505824TcdnbMp3.3</td>\n",
       "      <td>66150.0</td>\n",
       "      <td>0.0</td>\n",
       "      <td>0.293440</td>\n",
       "      <td>0.0</td>\n",
       "      <td>0.403592</td>\n",
       "      <td>0.0</td>\n",
       "      <td>0.719210</td>\n",
       "      <td>0.0</td>\n",
       "      <td>0.379160</td>\n",
       "      <td>...</td>\n",
       "      <td>0.731006</td>\n",
       "      <td>34.023834</td>\n",
       "      <td>-5.368141</td>\n",
       "      <td>25.709045</td>\n",
       "      <td>1.680458</td>\n",
       "      <td>56.148521</td>\n",
       "      <td>3.764516</td>\n",
       "      <td>46.766174</td>\n",
       "      <td>7.530476</td>\n",
       "      <td>Dancefloor</td>\n",
       "    </tr>\n",
       "    <tr>\n",
       "      <th>4</th>\n",
       "      <td>02TcHmrc537505824TcdnbMp3.4</td>\n",
       "      <td>66150.0</td>\n",
       "      <td>0.0</td>\n",
       "      <td>0.365667</td>\n",
       "      <td>0.0</td>\n",
       "      <td>0.726458</td>\n",
       "      <td>0.0</td>\n",
       "      <td>0.392244</td>\n",
       "      <td>0.0</td>\n",
       "      <td>0.339426</td>\n",
       "      <td>...</td>\n",
       "      <td>0.902030</td>\n",
       "      <td>37.598709</td>\n",
       "      <td>-4.868746</td>\n",
       "      <td>27.333706</td>\n",
       "      <td>1.729364</td>\n",
       "      <td>57.242455</td>\n",
       "      <td>3.563363</td>\n",
       "      <td>49.324142</td>\n",
       "      <td>7.353123</td>\n",
       "      <td>Dancefloor</td>\n",
       "    </tr>\n",
       "  </tbody>\n",
       "</table>\n",
       "<p>5 rows × 82 columns</p>\n",
       "</div>"
      ],
      "text/plain": [
       "                      filename   length  chroma_stft1_var  chroma_stft1_mean  \\\n",
       "0  02TcHmrc537505824TcdnbMp3.0  63078.0               0.0           0.321759   \n",
       "1  02TcHmrc537505824TcdnbMp3.1  66150.0               0.0           0.327443   \n",
       "2  02TcHmrc537505824TcdnbMp3.2  66150.0               0.0           0.400691   \n",
       "3  02TcHmrc537505824TcdnbMp3.3  66150.0               0.0           0.293440   \n",
       "4  02TcHmrc537505824TcdnbMp3.4  66150.0               0.0           0.365667   \n",
       "\n",
       "   chroma_stft2_var  chroma_stft2_mean  chroma_stft3_var  chroma_stft3_mean  \\\n",
       "0               0.0           0.726720               0.0           0.437948   \n",
       "1               0.0           0.726267               0.0           0.438089   \n",
       "2               0.0           0.712579               0.0           0.392655   \n",
       "3               0.0           0.403592               0.0           0.719210   \n",
       "4               0.0           0.726458               0.0           0.392244   \n",
       "\n",
       "   chroma_stft4_var  chroma_stft4_mean  ...  mfcc16_mean  mfcc17_var  \\\n",
       "0               0.0           0.330802  ...     0.428932   36.298618   \n",
       "1               0.0           0.337510  ...     0.349122   35.307343   \n",
       "2               0.0           0.356017  ...     0.619886   34.498959   \n",
       "3               0.0           0.379160  ...     0.731006   34.023834   \n",
       "4               0.0           0.339426  ...     0.902030   37.598709   \n",
       "\n",
       "   mfcc17_mean  mfcc18_var  mfcc18_mean  mfcc19_var  mfcc19_mean  mfcc20_var  \\\n",
       "0    -5.597476   26.766903     1.345605   72.489861     3.253771   52.741318   \n",
       "1    -5.651783   25.953512     1.504927   70.632378     3.037568   53.111816   \n",
       "2    -5.697873   26.557186     1.491368   60.791534     3.364270   49.549961   \n",
       "3    -5.368141   25.709045     1.680458   56.148521     3.764516   46.766174   \n",
       "4    -4.868746   27.333706     1.729364   57.242455     3.563363   49.324142   \n",
       "\n",
       "   mfcc20_mean       label  \n",
       "0     7.256914  Dancefloor  \n",
       "1     7.092544  Dancefloor  \n",
       "2     7.211648  Dancefloor  \n",
       "3     7.530476  Dancefloor  \n",
       "4     7.353123  Dancefloor  \n",
       "\n",
       "[5 rows x 82 columns]"
      ]
     },
     "execution_count": 31,
     "metadata": {},
     "output_type": "execute_result"
    }
   ],
   "source": [
    "df.head()"
   ]
  },
  {
   "cell_type": "code",
   "execution_count": 32,
   "metadata": {},
   "outputs": [
    {
     "name": "stdout",
     "output_type": "stream",
     "text": [
      "Dataset has (18000, 82)\n",
      "Count of Positive and Negative samples\n"
     ]
    },
    {
     "data": {
      "text/html": [
       "<div>\n",
       "<style scoped>\n",
       "    .dataframe tbody tr th:only-of-type {\n",
       "        vertical-align: middle;\n",
       "    }\n",
       "\n",
       "    .dataframe tbody tr th {\n",
       "        vertical-align: top;\n",
       "    }\n",
       "\n",
       "    .dataframe thead th {\n",
       "        text-align: right;\n",
       "    }\n",
       "</style>\n",
       "<table border=\"1\" class=\"dataframe\">\n",
       "  <thead>\n",
       "    <tr style=\"text-align: right;\">\n",
       "      <th></th>\n",
       "      <th>index</th>\n",
       "      <th>label</th>\n",
       "    </tr>\n",
       "  </thead>\n",
       "  <tbody>\n",
       "    <tr>\n",
       "      <th>0</th>\n",
       "      <td>Dancefloor</td>\n",
       "      <td>2000</td>\n",
       "    </tr>\n",
       "    <tr>\n",
       "      <th>1</th>\n",
       "      <td>Deep</td>\n",
       "      <td>2000</td>\n",
       "    </tr>\n",
       "    <tr>\n",
       "      <th>2</th>\n",
       "      <td>Jungle</td>\n",
       "      <td>2000</td>\n",
       "    </tr>\n",
       "    <tr>\n",
       "      <th>3</th>\n",
       "      <td>Liquid</td>\n",
       "      <td>2000</td>\n",
       "    </tr>\n",
       "    <tr>\n",
       "      <th>4</th>\n",
       "      <td>Minimal</td>\n",
       "      <td>2000</td>\n",
       "    </tr>\n",
       "    <tr>\n",
       "      <th>5</th>\n",
       "      <td>Neurofunk</td>\n",
       "      <td>2000</td>\n",
       "    </tr>\n",
       "    <tr>\n",
       "      <th>6</th>\n",
       "      <td>Sambass</td>\n",
       "      <td>2000</td>\n",
       "    </tr>\n",
       "    <tr>\n",
       "      <th>7</th>\n",
       "      <td>Shriek</td>\n",
       "      <td>2000</td>\n",
       "    </tr>\n",
       "    <tr>\n",
       "      <th>8</th>\n",
       "      <td>Techno</td>\n",
       "      <td>2000</td>\n",
       "    </tr>\n",
       "  </tbody>\n",
       "</table>\n",
       "</div>"
      ],
      "text/plain": [
       "        index  label\n",
       "0  Dancefloor   2000\n",
       "1        Deep   2000\n",
       "2      Jungle   2000\n",
       "3      Liquid   2000\n",
       "4     Minimal   2000\n",
       "5   Neurofunk   2000\n",
       "6     Sambass   2000\n",
       "7      Shriek   2000\n",
       "8      Techno   2000"
      ]
     },
     "execution_count": 32,
     "metadata": {},
     "output_type": "execute_result"
    }
   ],
   "source": [
    "print(\"Dataset has\",df.shape)\n",
    "print(\"Count of Positive and Negative samples\")\n",
    "df.label.value_counts().reset_index()"
   ]
  },
  {
   "cell_type": "markdown",
   "metadata": {},
   "source": [
    "# Data Preparation"
   ]
  },
  {
   "cell_type": "markdown",
   "metadata": {},
   "source": [
    "Treat missing values.\n",
    "Outlier Treatment\n",
    "Define dummy variables for categorical variables."
   ]
  },
  {
   "cell_type": "markdown",
   "metadata": {},
   "source": [
    "### Missing Value Treatment"
   ]
  },
  {
   "cell_type": "code",
   "execution_count": 33,
   "metadata": {},
   "outputs": [
    {
     "name": "stdout",
     "output_type": "stream",
     "text": [
      "Columns with NA values are []\n"
     ]
    }
   ],
   "source": [
    "# find all columns with any NA values\n",
    "df.drop(['length'], axis=1, inplace=True)\n",
    "\n",
    "print(\"Columns with NA values are\",list(df.columns[df.isnull().any()]))"
   ]
  },
  {
   "cell_type": "markdown",
   "metadata": {},
   "source": [
    "### Encode Genre Label"
   ]
  },
  {
   "cell_type": "code",
   "execution_count": 34,
   "metadata": {},
   "outputs": [
    {
     "name": "stdout",
     "output_type": "stream",
     "text": [
      "{'Dancefloor': 0, 'Deep': 1, 'Jungle': 2, 'Liquid': 3, 'Minimal': 4, 'Neurofunk': 5, 'Sambass': 6, 'Shriek': 7, 'Techno': 8}\n",
      "{0: 'Dancefloor', 1: 'Deep', 2: 'Jungle', 3: 'Liquid', 4: 'Minimal', 5: 'Neurofunk', 6: 'Sambass', 7: 'Shriek', 8: 'Techno'}\n"
     ]
    }
   ],
   "source": [
    "# map labels to index\n",
    "label_index = {}\n",
    "index_label = {}\n",
    "for i, x in enumerate(df.label.unique()):\n",
    "    label_index[x] = i\n",
    "    index_label[i] = x\n",
    "print(label_index)\n",
    "print(index_label)"
   ]
  },
  {
   "cell_type": "code",
   "execution_count": 35,
   "metadata": {},
   "outputs": [],
   "source": [
    "# update labels in df to index\n",
    "df.label = [label_index[l] for l in df.label]"
   ]
  },
  {
   "cell_type": "markdown",
   "metadata": {},
   "source": [
    "### Split Train, Dev & Test Sets"
   ]
  },
  {
   "cell_type": "code",
   "execution_count": 36,
   "metadata": {},
   "outputs": [],
   "source": [
    "# shuffle samples\n",
    "df_shuffle = df.sample(frac=1, random_state=seed).reset_index(drop=True)"
   ]
  },
  {
   "cell_type": "code",
   "execution_count": 37,
   "metadata": {},
   "outputs": [],
   "source": [
    "# remove irrelevant columns\n",
    "df_shuffle.drop(['filename'], axis=1, inplace=True)\n",
    "df_y = df_shuffle.pop('label')\n",
    "df_X = df_shuffle\n",
    "\n",
    "\n",
    "# split into train dev and test\n",
    "X_train, df_test_valid_X, y_train, df_test_valid_y = skms.train_test_split(df_X, df_y, train_size=0.7, random_state=seed, stratify=df_y)\n",
    "X_dev, X_test, y_dev, y_test = skms.train_test_split(df_test_valid_X, df_test_valid_y, train_size=0.66, random_state=seed, stratify=df_test_valid_y)"
   ]
  },
  {
   "cell_type": "code",
   "execution_count": 38,
   "metadata": {},
   "outputs": [
    {
     "name": "stdout",
     "output_type": "stream",
     "text": [
      "Train set has 12600 records out of 18000 which is 70%\n",
      "Dev set has 3564 records out of 18000 which is 20%\n",
      "Test set has 1836 records out of 18000 which is 10%\n"
     ]
    }
   ],
   "source": [
    "print(f\"Train set has {X_train.shape[0]} records out of {len(df_shuffle)} which is {round(X_train.shape[0]/len(df_shuffle)*100)}%\")\n",
    "print(f\"Dev set has {X_dev.shape[0]} records out of {len(df_shuffle)} which is {round(X_dev.shape[0]/len(df_shuffle)*100)}%\")\n",
    "print(f\"Test set has {X_test.shape[0]} records out of {len(df_shuffle)} which is {round(X_test.shape[0]/len(df_shuffle)*100)}%\")"
   ]
  },
  {
   "cell_type": "code",
   "execution_count": 39,
   "metadata": {},
   "outputs": [
    {
     "name": "stdout",
     "output_type": "stream",
     "text": [
      "11.11111111111111\n",
      "11.11111111111111\n",
      "11.11111111111111\n"
     ]
    }
   ],
   "source": [
    "print(y_train.value_counts()[0]/y_train.shape[0]*100)\n",
    "print(y_dev.value_counts()[0]/y_dev.shape[0]*100)\n",
    "print(y_test.value_counts()[0]/y_test.shape[0]*100)"
   ]
  },
  {
   "cell_type": "code",
   "execution_count": 40,
   "metadata": {},
   "outputs": [],
   "source": [
    "scaler = skp.StandardScaler()\n",
    "X_train = pd.DataFrame(scaler.fit_transform(X_train), columns=X_train.columns)\n",
    "X_dev = pd.DataFrame(scaler.transform(X_dev), columns=X_train.columns)\n",
    "X_test = pd.DataFrame(scaler.transform(X_test), columns=X_train.columns)"
   ]
  },
  {
   "cell_type": "code",
   "execution_count": 41,
   "metadata": {},
   "outputs": [],
   "source": [
    "# y_train = np.array([train_labels_idx[x] for x in y_train.index.tolist()])\n",
    "# y_test = np.array([train_labels_idx[x] for x in y_test.index.tolist()])\n",
    "# y_train[::10]"
   ]
  },
  {
   "cell_type": "markdown",
   "metadata": {},
   "source": [
    "#### Scale the Features"
   ]
  },
  {
   "cell_type": "code",
   "execution_count": 42,
   "metadata": {},
   "outputs": [],
   "source": [
    "# # scale features\n",
    "# scaler = skp.MinMaxScaler()\n",
    "# X_train = scaler.fit_transform(X_train.reshape(-1, X_train.shape[-1])).reshape(X_train.shape)\n",
    "# X_test = scaler.transform(X_test.reshape(-1, X_test.shape[-1])).reshape(X_test.shape)\n",
    "# test_data = scaler.transform(test_data.reshape(-1, test_data.shape[-1])).reshape(test_data.shape)\n",
    "# print(X_train.shape)"
   ]
  },
  {
   "cell_type": "markdown",
   "metadata": {},
   "source": [
    "# Model Building"
   ]
  },
  {
   "cell_type": "code",
   "execution_count": 43,
   "metadata": {},
   "outputs": [
    {
     "name": "stdout",
     "output_type": "stream",
     "text": [
      "TF version:- 2.8.0\n"
     ]
    }
   ],
   "source": [
    "import tensorflow as tf\n",
    "print(\"TF version:-\", tf.__version__)\n",
    "import keras as k\n",
    "tf.random.set_seed(seed)"
   ]
  },
  {
   "cell_type": "code",
   "execution_count": 44,
   "metadata": {},
   "outputs": [],
   "source": [
    "\n",
    "def trainModel(model, epochs, optimizer):\n",
    "    # [32, 64] - CPU\n",
    "    # [128, 256] - GPU for more boost\n",
    "    batch_size = 32\n",
    "    \n",
    "    # Stop training when a monitored metric has stopped improving.\n",
    "    callback = tf.keras.callbacks.EarlyStopping(monitor='loss', patience=3)\n",
    "    \n",
    "    model.compile(optimizer=optimizer,\n",
    "                  loss='sparse_categorical_crossentropy',\n",
    "                  metrics='accuracy'\n",
    "    )\n",
    "    return model.fit(X_train, y_train, validation_data=(X_dev, y_dev), epochs=epochs, \n",
    "                     batch_size=batch_size, callbacks=[callback])\n",
    "\n",
    "def plotHistory(history):\n",
    "    print(\"Max. Validation Accuracy\",max(history.history[\"val_accuracy\"]))\n",
    "    pd.DataFrame(history.history).plot(figsize=(12,6))\n",
    "    plt.show()"
   ]
  },
  {
   "cell_type": "code",
   "execution_count": 45,
   "metadata": {},
   "outputs": [
    {
     "name": "stdout",
     "output_type": "stream",
     "text": [
      "Model: \"sequential_2\"\n",
      "_________________________________________________________________\n",
      " Layer (type)                Output Shape              Param #   \n",
      "=================================================================\n",
      " dense_10 (Dense)            (None, 512)               40960     \n",
      "                                                                 \n",
      " dropout_8 (Dropout)         (None, 512)               0         \n",
      "                                                                 \n",
      " dense_11 (Dense)            (None, 256)               131328    \n",
      "                                                                 \n",
      " dropout_9 (Dropout)         (None, 256)               0         \n",
      "                                                                 \n",
      " dense_12 (Dense)            (None, 128)               32896     \n",
      "                                                                 \n",
      " dropout_10 (Dropout)        (None, 128)               0         \n",
      "                                                                 \n",
      " dense_13 (Dense)            (None, 64)                8256      \n",
      "                                                                 \n",
      " dropout_11 (Dropout)        (None, 64)                0         \n",
      "                                                                 \n",
      " dense_14 (Dense)            (None, 9)                 585       \n",
      "                                                                 \n",
      "=================================================================\n",
      "Total params: 214,025\n",
      "Trainable params: 214,025\n",
      "Non-trainable params: 0\n",
      "_________________________________________________________________\n",
      "None\n",
      "Epoch 1/100\n",
      "394/394 [==============================] - 2s 5ms/step - loss: 1.5903 - accuracy: 0.4272 - val_loss: 0.9369 - val_accuracy: 0.7059\n",
      "Epoch 2/100\n",
      "394/394 [==============================] - 2s 4ms/step - loss: 0.8317 - accuracy: 0.7188 - val_loss: 0.3748 - val_accuracy: 0.8962\n",
      "Epoch 3/100\n",
      "394/394 [==============================] - 2s 4ms/step - loss: 0.4377 - accuracy: 0.8606 - val_loss: 0.1794 - val_accuracy: 0.9478\n",
      "Epoch 4/100\n",
      "394/394 [==============================] - 2s 4ms/step - loss: 0.2857 - accuracy: 0.9093 - val_loss: 0.0982 - val_accuracy: 0.9714\n",
      "Epoch 5/100\n",
      "394/394 [==============================] - 2s 5ms/step - loss: 0.2196 - accuracy: 0.9304 - val_loss: 0.0791 - val_accuracy: 0.9728\n",
      "Epoch 6/100\n",
      "394/394 [==============================] - 2s 4ms/step - loss: 0.1721 - accuracy: 0.9440 - val_loss: 0.0680 - val_accuracy: 0.9736\n",
      "Epoch 7/100\n",
      "394/394 [==============================] - 2s 4ms/step - loss: 0.1299 - accuracy: 0.9571 - val_loss: 0.0530 - val_accuracy: 0.9759\n",
      "Epoch 8/100\n",
      "394/394 [==============================] - 2s 5ms/step - loss: 0.1206 - accuracy: 0.9584 - val_loss: 0.0555 - val_accuracy: 0.9787\n",
      "Epoch 9/100\n",
      "394/394 [==============================] - 2s 5ms/step - loss: 0.1210 - accuracy: 0.9598 - val_loss: 0.0554 - val_accuracy: 0.9764\n",
      "Epoch 10/100\n",
      "394/394 [==============================] - 2s 4ms/step - loss: 0.1162 - accuracy: 0.9602 - val_loss: 0.0698 - val_accuracy: 0.9714\n",
      "Epoch 11/100\n",
      "394/394 [==============================] - 2s 5ms/step - loss: 0.1044 - accuracy: 0.9671 - val_loss: 0.0441 - val_accuracy: 0.9790\n",
      "Epoch 12/100\n",
      "394/394 [==============================] - 2s 5ms/step - loss: 0.0942 - accuracy: 0.9675 - val_loss: 0.0410 - val_accuracy: 0.9801\n",
      "Epoch 13/100\n",
      "394/394 [==============================] - 2s 5ms/step - loss: 0.0952 - accuracy: 0.9683 - val_loss: 0.0387 - val_accuracy: 0.9801\n",
      "Epoch 14/100\n",
      "394/394 [==============================] - 2s 4ms/step - loss: 0.0839 - accuracy: 0.9690 - val_loss: 0.0348 - val_accuracy: 0.9812\n",
      "Epoch 15/100\n",
      "394/394 [==============================] - 2s 4ms/step - loss: 0.1007 - accuracy: 0.9661 - val_loss: 0.0471 - val_accuracy: 0.9753\n",
      "Epoch 16/100\n",
      "394/394 [==============================] - 2s 4ms/step - loss: 0.0859 - accuracy: 0.9690 - val_loss: 0.0339 - val_accuracy: 0.9804\n",
      "Epoch 17/100\n",
      "394/394 [==============================] - 2s 4ms/step - loss: 0.0760 - accuracy: 0.9733 - val_loss: 0.0339 - val_accuracy: 0.9818\n",
      "Epoch 18/100\n",
      "394/394 [==============================] - 2s 4ms/step - loss: 0.0696 - accuracy: 0.9748 - val_loss: 0.0360 - val_accuracy: 0.9818\n",
      "Epoch 19/100\n",
      "394/394 [==============================] - 2s 5ms/step - loss: 0.0818 - accuracy: 0.9712 - val_loss: 0.0422 - val_accuracy: 0.9812\n",
      "Epoch 20/100\n",
      "394/394 [==============================] - 2s 5ms/step - loss: 0.0648 - accuracy: 0.9761 - val_loss: 0.0309 - val_accuracy: 0.9812\n",
      "Epoch 21/100\n",
      "394/394 [==============================] - 2s 4ms/step - loss: 0.0729 - accuracy: 0.9730 - val_loss: 0.0327 - val_accuracy: 0.9820\n",
      "Epoch 22/100\n",
      "394/394 [==============================] - 2s 4ms/step - loss: 0.0652 - accuracy: 0.9748 - val_loss: 0.0269 - val_accuracy: 0.9823\n",
      "Epoch 23/100\n",
      "394/394 [==============================] - 2s 4ms/step - loss: 0.0708 - accuracy: 0.9740 - val_loss: 0.0354 - val_accuracy: 0.9801\n"
     ]
    }
   ],
   "source": [
    "model = k.models.Sequential([\n",
    "    k.layers.Dense(512, activation='relu', input_shape=(X_train.shape[1],)),\n",
    "    k.layers.Dropout(0.2),\n",
    "    \n",
    "    k.layers.Dense(256, activation='relu'),\n",
    "    k.layers.Dropout(0.2),\n",
    "\n",
    "    k.layers.Dense(128, activation='relu'),\n",
    "    k.layers.Dropout(0.2),\n",
    "\n",
    "    k.layers.Dense(64, activation='relu'),\n",
    "    k.layers.Dropout(0.2),\n",
    "\n",
    "    k.layers.Dense(len(label_index.keys()), activation='softmax'),\n",
    "])\n",
    "print(model.summary())\n",
    "model_history = trainModel(model=model, epochs=100, optimizer='adam')"
   ]
  },
  {
   "cell_type": "code",
   "execution_count": 49,
   "metadata": {},
   "outputs": [
    {
     "name": "stdout",
     "output_type": "stream",
     "text": [
      "Max. Validation Accuracy 0.9823232293128967\n"
     ]
    },
    {
     "data": {
      "image/png": "[encoded data removed]",
      "text/plain": [
       "<Figure size 864x432 with 1 Axes>"
      ]
     },
     "metadata": {
      "needs_background": "light"
     },
     "output_type": "display_data"
    }
   ],
   "source": [
    "plotHistory(model_history)"
   ]
  },
  {
   "cell_type": "code",
   "execution_count": 50,
   "metadata": {},
   "outputs": [
    {
     "name": "stdout",
     "output_type": "stream",
     "text": [
      "15/15 [==============================] - 0s 2ms/step - loss: 0.0310 - accuracy: 0.9809\n",
      "The test Loss is : 0.030953697860240936\n",
      "\n",
      "The Best test Accuracy is : 98.09368252754211\n"
     ]
    }
   ],
   "source": [
    "test_loss, test_acc  = model.evaluate(X_test, y_test, batch_size=128)\n",
    "print(\"The test Loss is :\",test_loss)\n",
    "print(\"\\nThe Best test Accuracy is :\",test_acc*100)"
   ]
  },
  {
   "cell_type": "code",
   "execution_count": 51,
   "metadata": {},
   "outputs": [],
   "source": [
    "import pickle\n",
    "import joblib\n",
    "\n",
    "model.save( os.path.join(data_dir, \"model.h5\"))\n",
    "\n",
    "joblib.dump(scaler , os.path.join(data_dir, \"scaler.pkl\"))     # save to disk\n",
    "\n",
    "with open(os.path.join(data_dir, \"labels.pkl\"), \"wb\") as a_file:\n",
    "    pickle.dump(index_label, a_file)"
   ]
  }
 ],
 "metadata": {
  "interpreter": {
   "hash": "d669948995aefc1c7740d919433ecc7c57cb8b49d716c9781bcf5ee3c9927de4"
  },
  "kernelspec": {
   "display_name": "Python 3.8.13 ('base')",
   "language": "python",
   "name": "python3"
  },
  "language_info": {
   "codemirror_mode": {
    "name": "ipython",
    "version": 3
   },
   "file_extension": ".py",
   "mimetype": "text/x-python",
   "name": "python",
   "nbconvert_exporter": "python",
   "pygments_lexer": "ipython3",
   "version": "3.8.13"
  },
  "orig_nbformat": 4
 },
 "nbformat": 4,
 "nbformat_minor": 2
}
