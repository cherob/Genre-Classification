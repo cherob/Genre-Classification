{
 "cells": [
  {
   "cell_type": "code",
   "execution_count": 7,
   "metadata": {},
   "outputs": [],
   "source": [
    "from src.libraryAnalysier import LibraryAnalysier\n",
    "\n",
    "import pandas as pd\n",
    "import os\n",
    "import numpy as np\n",
    "\n",
    "from tqdm import tqdm"
   ]
  },
  {
   "cell_type": "code",
   "execution_count": 8,
   "metadata": {},
   "outputs": [],
   "source": [
    "data_dir = './data/100x20x3/'\n",
    "OUTPUT_PATH = 'D:\\\\Musik\\\\Genres\\\\'\n",
    "DIR_PATH = 'D:\\\\Musik\\\\Genres\\\\DnB\\\\'\n",
    "DIR_ERROR_PATH = DIR_PATH"
   ]
  },
  {
   "cell_type": "code",
   "execution_count": 9,
   "metadata": {},
   "outputs": [],
   "source": [
    "from keras.models import load_model\n",
    "reconstructed_model = load_model(os.path.join(data_dir, \"model.h5\"))\n",
    "\n",
    "import joblib\n",
    "loaded_scaler = joblib.load(os.path.join(data_dir, \"scaler.pkl\"))  # load from disk\n",
    "\n",
    "import pickle\n",
    "with open(os.path.join(data_dir, \"labels.pkl\"), \"rb\") as a_file:\n",
    "    GENRES = pickle.load(a_file)"
   ]
  },
  {
   "cell_type": "code",
   "execution_count": 10,
   "metadata": {},
   "outputs": [
    {
     "name": "stdout",
     "output_type": "stream",
     "text": [
      "{0: 'Dancefloor', 1: 'Deep', 2: 'Jungle', 3: 'Liquid', 4: 'Minimal', 5: 'Neurofunk', 6: 'Sambass', 7: 'Shriek', 8: 'Techno'}\n"
     ]
    }
   ],
   "source": [
    "print(GENRES)"
   ]
  },
  {
   "cell_type": "code",
   "execution_count": 11,
   "metadata": {},
   "outputs": [
    {
     "ename": "SyntaxError",
     "evalue": "invalid syntax (1756794151.py, line 28)",
     "output_type": "error",
     "traceback": [
      "\u001b[1;36m  Input \u001b[1;32mIn [11]\u001b[1;36m\u001b[0m\n\u001b[1;33m    -+\u001b[0m\n\u001b[1;37m      ^\u001b[0m\n\u001b[1;31mSyntaxError\u001b[0m\u001b[1;31m:\u001b[0m invalid syntax\n"
     ]
    }
   ],
   "source": [
    "files = os.listdir(DIR_PATH)\n",
    "liblys = LibraryAnalysier(library=\"D:\\\\Musik\\\\Archive\")\n",
    "\n",
    "        \n",
    "for file in files:\n",
    "    __bar = tqdm(total=liblys.segments, desc=f\"{os.path.basename(file)}\")\n",
    "    if(os.path.splitext(file)[-1] not in ['.wav', '.mp3']):\n",
    "        print('not supported')\n",
    "        continue\n",
    "    file_path = os.path.join(DIR_PATH, file)\n",
    "\n",
    "    result = liblys.loadFile(file_path, __bar) \n",
    "    # sis = Analysis(audio_path=file_path, options=config)\n",
    "\n",
    "    inside_df = pd.DataFrame(result)\n",
    "    inside_df.drop(['length'], axis=1, inplace=True)\n",
    "    inside_df = pd.DataFrame(loaded_scaler.transform(inside_df), columns=inside_df.columns)\n",
    "    inside_df.reset_index(drop=True)\n",
    "    q = reconstructed_model.predict(inside_df).T\n",
    "\n",
    "    \n",
    "    points = [np.mean(r, axis=None) for r in q]\n",
    "    biggest_number = max(points)\n",
    "\n",
    "    guess = 'other'\n",
    "    guess_save = 0\n",
    "    alt_guess = 'other'\n",
    "    \n",
    "    temp = 0\n",
    "    for i, r in enumerate(q):\n",
    "        _max = np.max(r)\n",
    "        temp += _max\n",
    "        g = np.mean(r) * (1 - (np.var(r)))\n",
    "        \n",
    "        if((_max < 0.80)):\n",
    "            continue\n",
    "        if(g > guess_save):\n",
    "            alt_guess = guess\n",
    "            alt_guess_save = guess_save\n",
    "            guess_save = g\n",
    "            guess = GENRES[i]\n",
    "        elif(g > alt_guess_save):\n",
    "            alt_guess = GENRES[i]\n",
    "            alt_guess_save = g\n",
    "\n",
    "    # print('Avage: ', temp - guess_save)\n",
    "\n",
    "    path_dir = os.path.join(OUTPUT_PATH, guess)\n",
    "    path_file = os.path.join(DIR_PATH, file)\n",
    "    new_file = os.path.join(path_dir, os.path.basename(file))\n",
    "    \n",
    "    # if(guess_save < 0.8):\n",
    "    #     continue\n",
    "    \n",
    "    # bar__.close()\n",
    "    # print()\n",
    "    if alt_guess != 'other':    \n",
    "        print(f' > ({guess}: {round(np.max(guess_save)*100, 2)}% or {alt_guess}: {round(np.max(alt_guess_save)*100, 2)}%)')\n",
    "    else:\n",
    "        print(f' > ({guess}: {round(np.max(guess_save)*100, 2)}%)')\n",
    "\n",
    "    # if not os.path.exists(OUTPUT_PATH):\n",
    "    #     os.makedirs(OUTPUT_PATH)\n",
    "    # if not os.path.exists(path_dir):\n",
    "    #     os.makedirs(path_dir)\n",
    "    \n",
    "    # print(path_file, new_file)\n",
    "    # os.replace(path_file, new_file)"
   ]
  }
 ],
 "metadata": {
  "interpreter": {
   "hash": "d669948995aefc1c7740d919433ecc7c57cb8b49d716c9781bcf5ee3c9927de4"
  },
  "kernelspec": {
   "display_name": "Python 3.8.13 ('base')",
   "language": "python",
   "name": "python3"
  },
  "language_info": {
   "codemirror_mode": {
    "name": "ipython",
    "version": 3
   },
   "file_extension": ".py",
   "mimetype": "text/x-python",
   "name": "python",
   "nbconvert_exporter": "python",
   "pygments_lexer": "ipython3",
   "version": "3.8.13"
  },
  "orig_nbformat": 4
 },
 "nbformat": 4,
 "nbformat_minor": 2
}
