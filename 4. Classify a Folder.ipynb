{
 "cells": [
  {
   "cell_type": "code",
   "execution_count": 1,
   "metadata": {},
   "outputs": [],
   "source": [
    "from Prediction import Prediction"
   ]
  },
  {
   "cell_type": "code",
   "execution_count": 2,
   "metadata": {},
   "outputs": [],
   "source": [
    "pred = Prediction()"
   ]
  },
  {
   "cell_type": "code",
   "execution_count": 3,
   "metadata": {},
   "outputs": [],
   "source": [
    "pred.load()"
   ]
  },
  {
   "cell_type": "code",
   "execution_count": 4,
   "metadata": {},
   "outputs": [
    {
     "name": "stdout",
     "output_type": "stream",
     "text": [
      "{'df': Empty DataFrame\n",
      "Columns: [filename]\n",
      "Index: [], 'library': {}, 'database': {}, 'model': <keras.engine.sequential.Sequential object at 0x000002687D0F8EE0>, 'scaler': StandardScaler(), 'labels': {0: 'Basement', 1: 'Chill', 2: 'Deep', 3: 'Diffrent', 4: 'Push', 5: 'Vibe'}}\n"
     ]
    }
   ],
   "source": [
    "print(pred.__dict__)"
   ]
  },
  {
   "cell_type": "code",
   "execution_count": 5,
   "metadata": {},
   "outputs": [
    {
     "ename": "FileNotFoundError",
     "evalue": "[Errno 2] No such file or directory: 'Absofacto - Rewind (Marian Hill Remix) [Official Audio].mp3'",
     "output_type": "error",
     "traceback": [
      "\u001b[1;31m---------------------------------------------------------------------------\u001b[0m",
      "\u001b[1;31mRuntimeError\u001b[0m                              Traceback (most recent call last)",
      "File \u001b[1;32mD:\\Devtools\\miniconda\\lib\\site-packages\\librosa\\core\\audio.py:765\u001b[0m, in \u001b[0;36mget_samplerate\u001b[1;34m(path)\u001b[0m\n\u001b[0;32m    <a href='file:///d%3A/Devtools/miniconda/lib/site-packages/librosa/core/audio.py?line=762'>763</a>\u001b[0m         \u001b[39mreturn\u001b[39;00m path\u001b[39m.\u001b[39msamplerate\n\u001b[1;32m--> <a href='file:///d%3A/Devtools/miniconda/lib/site-packages/librosa/core/audio.py?line=764'>765</a>\u001b[0m     \u001b[39mreturn\u001b[39;00m sf\u001b[39m.\u001b[39;49minfo(path)\u001b[39m.\u001b[39msamplerate\n\u001b[0;32m    <a href='file:///d%3A/Devtools/miniconda/lib/site-packages/librosa/core/audio.py?line=765'>766</a>\u001b[0m \u001b[39mexcept\u001b[39;00m \u001b[39mRuntimeError\u001b[39;00m:\n",
      "File \u001b[1;32mD:\\Devtools\\miniconda\\lib\\site-packages\\soundfile.py:438\u001b[0m, in \u001b[0;36minfo\u001b[1;34m(file, verbose)\u001b[0m\n\u001b[0;32m    <a href='file:///d%3A/Devtools/miniconda/lib/site-packages/soundfile.py?line=430'>431</a>\u001b[0m \u001b[39m\"\"\"Returns an object with information about a SoundFile.\u001b[39;00m\n\u001b[0;32m    <a href='file:///d%3A/Devtools/miniconda/lib/site-packages/soundfile.py?line=431'>432</a>\u001b[0m \n\u001b[0;32m    <a href='file:///d%3A/Devtools/miniconda/lib/site-packages/soundfile.py?line=432'>433</a>\u001b[0m \u001b[39mParameters\u001b[39;00m\n\u001b[1;32m   (...)\u001b[0m\n\u001b[0;32m    <a href='file:///d%3A/Devtools/miniconda/lib/site-packages/soundfile.py?line=435'>436</a>\u001b[0m \u001b[39m    Whether to print additional information.\u001b[39;00m\n\u001b[0;32m    <a href='file:///d%3A/Devtools/miniconda/lib/site-packages/soundfile.py?line=436'>437</a>\u001b[0m \u001b[39m\"\"\"\u001b[39;00m\n\u001b[1;32m--> <a href='file:///d%3A/Devtools/miniconda/lib/site-packages/soundfile.py?line=437'>438</a>\u001b[0m \u001b[39mreturn\u001b[39;00m _SoundFileInfo(file, verbose)\n",
      "File \u001b[1;32mD:\\Devtools\\miniconda\\lib\\site-packages\\soundfile.py:383\u001b[0m, in \u001b[0;36m_SoundFileInfo.__init__\u001b[1;34m(self, file, verbose)\u001b[0m\n\u001b[0;32m    <a href='file:///d%3A/Devtools/miniconda/lib/site-packages/soundfile.py?line=381'>382</a>\u001b[0m \u001b[39mself\u001b[39m\u001b[39m.\u001b[39mverbose \u001b[39m=\u001b[39m verbose\n\u001b[1;32m--> <a href='file:///d%3A/Devtools/miniconda/lib/site-packages/soundfile.py?line=382'>383</a>\u001b[0m \u001b[39mwith\u001b[39;00m SoundFile(file) \u001b[39mas\u001b[39;00m f:\n\u001b[0;32m    <a href='file:///d%3A/Devtools/miniconda/lib/site-packages/soundfile.py?line=383'>384</a>\u001b[0m     \u001b[39mself\u001b[39m\u001b[39m.\u001b[39mname \u001b[39m=\u001b[39m f\u001b[39m.\u001b[39mname\n",
      "File \u001b[1;32mD:\\Devtools\\miniconda\\lib\\site-packages\\soundfile.py:629\u001b[0m, in \u001b[0;36mSoundFile.__init__\u001b[1;34m(self, file, mode, samplerate, channels, subtype, endian, format, closefd)\u001b[0m\n\u001b[0;32m    <a href='file:///d%3A/Devtools/miniconda/lib/site-packages/soundfile.py?line=626'>627</a>\u001b[0m \u001b[39mself\u001b[39m\u001b[39m.\u001b[39m_info \u001b[39m=\u001b[39m _create_info_struct(file, mode, samplerate, channels,\n\u001b[0;32m    <a href='file:///d%3A/Devtools/miniconda/lib/site-packages/soundfile.py?line=627'>628</a>\u001b[0m                                  \u001b[39mformat\u001b[39m, subtype, endian)\n\u001b[1;32m--> <a href='file:///d%3A/Devtools/miniconda/lib/site-packages/soundfile.py?line=628'>629</a>\u001b[0m \u001b[39mself\u001b[39m\u001b[39m.\u001b[39m_file \u001b[39m=\u001b[39m \u001b[39mself\u001b[39;49m\u001b[39m.\u001b[39;49m_open(file, mode_int, closefd)\n\u001b[0;32m    <a href='file:///d%3A/Devtools/miniconda/lib/site-packages/soundfile.py?line=629'>630</a>\u001b[0m \u001b[39mif\u001b[39;00m \u001b[39mset\u001b[39m(mode)\u001b[39m.\u001b[39missuperset(\u001b[39m'\u001b[39m\u001b[39mr+\u001b[39m\u001b[39m'\u001b[39m) \u001b[39mand\u001b[39;00m \u001b[39mself\u001b[39m\u001b[39m.\u001b[39mseekable():\n\u001b[0;32m    <a href='file:///d%3A/Devtools/miniconda/lib/site-packages/soundfile.py?line=630'>631</a>\u001b[0m     \u001b[39m# Move write position to 0 (like in Python file objects)\u001b[39;00m\n",
      "File \u001b[1;32mD:\\Devtools\\miniconda\\lib\\site-packages\\soundfile.py:1183\u001b[0m, in \u001b[0;36mSoundFile._open\u001b[1;34m(self, file, mode_int, closefd)\u001b[0m\n\u001b[0;32m   <a href='file:///d%3A/Devtools/miniconda/lib/site-packages/soundfile.py?line=1181'>1182</a>\u001b[0m     \u001b[39mraise\u001b[39;00m \u001b[39mTypeError\u001b[39;00m(\u001b[39m\"\u001b[39m\u001b[39mInvalid file: \u001b[39m\u001b[39m{0!r}\u001b[39;00m\u001b[39m\"\u001b[39m\u001b[39m.\u001b[39mformat(\u001b[39mself\u001b[39m\u001b[39m.\u001b[39mname))\n\u001b[1;32m-> <a href='file:///d%3A/Devtools/miniconda/lib/site-packages/soundfile.py?line=1182'>1183</a>\u001b[0m _error_check(_snd\u001b[39m.\u001b[39;49msf_error(file_ptr),\n\u001b[0;32m   <a href='file:///d%3A/Devtools/miniconda/lib/site-packages/soundfile.py?line=1183'>1184</a>\u001b[0m              \u001b[39m\"\u001b[39;49m\u001b[39mError opening \u001b[39;49m\u001b[39m{0!r}\u001b[39;49;00m\u001b[39m: \u001b[39;49m\u001b[39m\"\u001b[39;49m\u001b[39m.\u001b[39;49mformat(\u001b[39mself\u001b[39;49m\u001b[39m.\u001b[39;49mname))\n\u001b[0;32m   <a href='file:///d%3A/Devtools/miniconda/lib/site-packages/soundfile.py?line=1184'>1185</a>\u001b[0m \u001b[39mif\u001b[39;00m mode_int \u001b[39m==\u001b[39m _snd\u001b[39m.\u001b[39mSFM_WRITE:\n\u001b[0;32m   <a href='file:///d%3A/Devtools/miniconda/lib/site-packages/soundfile.py?line=1185'>1186</a>\u001b[0m     \u001b[39m# Due to a bug in libsndfile version <= 1.0.25, frames != 0\u001b[39;00m\n\u001b[0;32m   <a href='file:///d%3A/Devtools/miniconda/lib/site-packages/soundfile.py?line=1186'>1187</a>\u001b[0m     \u001b[39m# when opening a named pipe in SFM_WRITE mode.\u001b[39;00m\n\u001b[0;32m   <a href='file:///d%3A/Devtools/miniconda/lib/site-packages/soundfile.py?line=1187'>1188</a>\u001b[0m     \u001b[39m# See http://github.com/erikd/libsndfile/issues/77.\u001b[39;00m\n",
      "File \u001b[1;32mD:\\Devtools\\miniconda\\lib\\site-packages\\soundfile.py:1357\u001b[0m, in \u001b[0;36m_error_check\u001b[1;34m(err, prefix)\u001b[0m\n\u001b[0;32m   <a href='file:///d%3A/Devtools/miniconda/lib/site-packages/soundfile.py?line=1355'>1356</a>\u001b[0m err_str \u001b[39m=\u001b[39m _snd\u001b[39m.\u001b[39msf_error_number(err)\n\u001b[1;32m-> <a href='file:///d%3A/Devtools/miniconda/lib/site-packages/soundfile.py?line=1356'>1357</a>\u001b[0m \u001b[39mraise\u001b[39;00m \u001b[39mRuntimeError\u001b[39;00m(prefix \u001b[39m+\u001b[39m _ffi\u001b[39m.\u001b[39mstring(err_str)\u001b[39m.\u001b[39mdecode(\u001b[39m'\u001b[39m\u001b[39mutf-8\u001b[39m\u001b[39m'\u001b[39m, \u001b[39m'\u001b[39m\u001b[39mreplace\u001b[39m\u001b[39m'\u001b[39m))\n",
      "\u001b[1;31mRuntimeError\u001b[0m: Error opening 'Absofacto - Rewind (Marian Hill Remix) [Official Audio].mp3': System error.",
      "\nDuring handling of the above exception, another exception occurred:\n",
      "\u001b[1;31mFileNotFoundError\u001b[0m                         Traceback (most recent call last)",
      "\u001b[1;32mc:\\Users\\robin\\.mega\\Coding\\Python\\Genre-Classification\\4. Classify a Folder.ipynb Cell 5'\u001b[0m in \u001b[0;36m<cell line: 1>\u001b[1;34m()\u001b[0m\n\u001b[1;32m----> <a href='vscode-notebook-cell:/c%3A/Users/robin/.mega/Coding/Python/Genre-Classification/4.%20Classify%20a%20Folder.ipynb#ch0000004?line=0'>1</a>\u001b[0m pred\u001b[39m.\u001b[39;49mpredictFolder(\u001b[39m'\u001b[39;49m\u001b[39mD:\u001b[39;49m\u001b[39m\\\\\u001b[39;49;00m\u001b[39mMusik\u001b[39;49m\u001b[39m\\\\\u001b[39;49;00m\u001b[39mUnknow\u001b[39;49m\u001b[39m'\u001b[39;49m)\n",
      "File \u001b[1;32mc:\\Users\\robin\\.mega\\Coding\\Python\\Genre-Classification\\Prediction.py:28\u001b[0m, in \u001b[0;36mPrediction.predictFolder\u001b[1;34m(self, directory)\u001b[0m\n\u001b[0;32m     <a href='file:///c%3A/Users/robin/.mega/Coding/Python/Genre-Classification/Prediction.py?line=25'>26</a>\u001b[0m     \u001b[39mprint\u001b[39m(\u001b[39m'\u001b[39m\u001b[39mnot supported\u001b[39m\u001b[39m'\u001b[39m)\n\u001b[0;32m     <a href='file:///c%3A/Users/robin/.mega/Coding/Python/Genre-Classification/Prediction.py?line=26'>27</a>\u001b[0m     \u001b[39mcontinue\u001b[39;00m\n\u001b[1;32m---> <a href='file:///c%3A/Users/robin/.mega/Coding/Python/Genre-Classification/Prediction.py?line=27'>28</a>\u001b[0m g \u001b[39m=\u001b[39m \u001b[39mself\u001b[39;49m\u001b[39m.\u001b[39;49mloadLabel(file)\n\u001b[0;32m     <a href='file:///c%3A/Users/robin/.mega/Coding/Python/Genre-Classification/Prediction.py?line=28'>29</a>\u001b[0m a, a_val, b, b_val \u001b[39m=\u001b[39m \u001b[39mself\u001b[39m\u001b[39m.\u001b[39mloadGuess(g)\n\u001b[0;32m     <a href='file:///c%3A/Users/robin/.mega/Coding/Python/Genre-Classification/Prediction.py?line=29'>30</a>\u001b[0m \u001b[39mif\u001b[39;00m a \u001b[39m==\u001b[39m \u001b[39m'\u001b[39m\u001b[39mother\u001b[39m\u001b[39m'\u001b[39m:\n",
      "File \u001b[1;32mc:\\Users\\robin\\.mega\\Coding\\Python\\Genre-Classification\\Prediction.py:68\u001b[0m, in \u001b[0;36mPrediction.loadLabel\u001b[1;34m(self, file)\u001b[0m\n\u001b[0;32m     <a href='file:///c%3A/Users/robin/.mega/Coding/Python/Genre-Classification/Prediction.py?line=66'>67</a>\u001b[0m \u001b[39mdef\u001b[39;00m \u001b[39mloadLabel\u001b[39m(\u001b[39mself\u001b[39m, file):\n\u001b[1;32m---> <a href='file:///c%3A/Users/robin/.mega/Coding/Python/Genre-Classification/Prediction.py?line=67'>68</a>\u001b[0m     result \u001b[39m=\u001b[39m \u001b[39mself\u001b[39;49m\u001b[39m.\u001b[39;49mloadFile(file, \u001b[39mNone\u001b[39;49;00m)\n\u001b[0;32m     <a href='file:///c%3A/Users/robin/.mega/Coding/Python/Genre-Classification/Prediction.py?line=68'>69</a>\u001b[0m     inside_df \u001b[39m=\u001b[39m pd\u001b[39m.\u001b[39mDataFrame(result, dtype\u001b[39m=\u001b[39mnp\u001b[39m.\u001b[39mfloat64)\n\u001b[0;32m     <a href='file:///c%3A/Users/robin/.mega/Coding/Python/Genre-Classification/Prediction.py?line=69'>70</a>\u001b[0m     inside_df\u001b[39m.\u001b[39mdrop([\u001b[39m'\u001b[39m\u001b[39mlength\u001b[39m\u001b[39m'\u001b[39m], axis\u001b[39m=\u001b[39m\u001b[39m1\u001b[39m, inplace\u001b[39m=\u001b[39m\u001b[39mTrue\u001b[39;00m)\n",
      "File \u001b[1;32mc:\\Users\\robin\\.mega\\Coding\\Python\\Genre-Classification\\Classification.py:54\u001b[0m, in \u001b[0;36mClassification.loadFile\u001b[1;34m(self, file_path, progress_bar)\u001b[0m\n\u001b[0;32m     <a href='file:///c%3A/Users/robin/.mega/Coding/Python/Genre-Classification/Classification.py?line=51'>52</a>\u001b[0m \u001b[39mif\u001b[39;00m(alyis\u001b[39m.\u001b[39mfailed \u001b[39m==\u001b[39m \u001b[39mTrue\u001b[39;00m):\n\u001b[0;32m     <a href='file:///c%3A/Users/robin/.mega/Coding/Python/Genre-Classification/Classification.py?line=52'>53</a>\u001b[0m     \u001b[39mreturn\u001b[39;00m \u001b[39mFalse\u001b[39;00m\n\u001b[1;32m---> <a href='file:///c%3A/Users/robin/.mega/Coding/Python/Genre-Classification/Classification.py?line=53'>54</a>\u001b[0m \u001b[39mreturn\u001b[39;00m alyis\u001b[39m.\u001b[39;49mcalculate()\n",
      "File \u001b[1;32mc:\\Users\\robin\\.mega\\Coding\\Python\\Genre-Classification\\src\\analysis.py:26\u001b[0m, in \u001b[0;36mAnalysis.calculate\u001b[1;34m(self)\u001b[0m\n\u001b[0;32m     <a href='file:///c%3A/Users/robin/.mega/Coding/Python/Genre-Classification/src/analysis.py?line=24'>25</a>\u001b[0m \u001b[39mdef\u001b[39;00m \u001b[39mcalculate\u001b[39m(\u001b[39mself\u001b[39m):\n\u001b[1;32m---> <a href='file:///c%3A/Users/robin/.mega/Coding/Python/Genre-Classification/src/analysis.py?line=25'>26</a>\u001b[0m     sr \u001b[39m=\u001b[39m librosa\u001b[39m.\u001b[39;49mget_samplerate(path\u001b[39m=\u001b[39;49m\u001b[39mself\u001b[39;49m\u001b[39m.\u001b[39;49maudio_path)\n\u001b[0;32m     <a href='file:///c%3A/Users/robin/.mega/Coding/Python/Genre-Classification/src/analysis.py?line=26'>27</a>\u001b[0m     \u001b[39mself\u001b[39m\u001b[39m.\u001b[39mlength \u001b[39m=\u001b[39m librosa\u001b[39m.\u001b[39mget_duration(filename\u001b[39m=\u001b[39m\u001b[39mself\u001b[39m\u001b[39m.\u001b[39maudio_path, sr\u001b[39m=\u001b[39msr) \u001b[39m/\u001b[39m \u001b[39m60\u001b[39m \u001b[39m# self.duration = len(self.audio_data) / SAMPLE_RATE / 60\u001b[39;00m\n\u001b[0;32m     <a href='file:///c%3A/Users/robin/.mega/Coding/Python/Genre-Classification/src/analysis.py?line=27'>28</a>\u001b[0m     \u001b[39mself\u001b[39m\u001b[39m.\u001b[39moffset_per_segment \u001b[39m=\u001b[39m \u001b[39mself\u001b[39m\u001b[39m.\u001b[39msegment_duration \u001b[39m/\u001b[39m \u001b[39mself\u001b[39m\u001b[39m.\u001b[39msegment_count \u001b[39m# self.frames = SAMPLE_RATE * self.duration # self.samples_per_second = self.frames / segment_count\u001b[39;00m\n",
      "File \u001b[1;32mD:\\Devtools\\miniconda\\lib\\site-packages\\librosa\\core\\audio.py:767\u001b[0m, in \u001b[0;36mget_samplerate\u001b[1;34m(path)\u001b[0m\n\u001b[0;32m    <a href='file:///d%3A/Devtools/miniconda/lib/site-packages/librosa/core/audio.py?line=764'>765</a>\u001b[0m     \u001b[39mreturn\u001b[39;00m sf\u001b[39m.\u001b[39minfo(path)\u001b[39m.\u001b[39msamplerate\n\u001b[0;32m    <a href='file:///d%3A/Devtools/miniconda/lib/site-packages/librosa/core/audio.py?line=765'>766</a>\u001b[0m \u001b[39mexcept\u001b[39;00m \u001b[39mRuntimeError\u001b[39;00m:\n\u001b[1;32m--> <a href='file:///d%3A/Devtools/miniconda/lib/site-packages/librosa/core/audio.py?line=766'>767</a>\u001b[0m     \u001b[39mwith\u001b[39;00m audioread\u001b[39m.\u001b[39;49maudio_open(path) \u001b[39mas\u001b[39;00m fdesc:\n\u001b[0;32m    <a href='file:///d%3A/Devtools/miniconda/lib/site-packages/librosa/core/audio.py?line=767'>768</a>\u001b[0m         \u001b[39mreturn\u001b[39;00m fdesc\u001b[39m.\u001b[39msamplerate\n",
      "File \u001b[1;32mD:\\Devtools\\miniconda\\lib\\site-packages\\audioread\\__init__.py:111\u001b[0m, in \u001b[0;36maudio_open\u001b[1;34m(path, backends)\u001b[0m\n\u001b[0;32m    <a href='file:///d%3A/Devtools/miniconda/lib/site-packages/audioread/__init__.py?line=108'>109</a>\u001b[0m \u001b[39mfor\u001b[39;00m BackendClass \u001b[39min\u001b[39;00m backends:\n\u001b[0;32m    <a href='file:///d%3A/Devtools/miniconda/lib/site-packages/audioread/__init__.py?line=109'>110</a>\u001b[0m     \u001b[39mtry\u001b[39;00m:\n\u001b[1;32m--> <a href='file:///d%3A/Devtools/miniconda/lib/site-packages/audioread/__init__.py?line=110'>111</a>\u001b[0m         \u001b[39mreturn\u001b[39;00m BackendClass(path)\n\u001b[0;32m    <a href='file:///d%3A/Devtools/miniconda/lib/site-packages/audioread/__init__.py?line=111'>112</a>\u001b[0m     \u001b[39mexcept\u001b[39;00m DecodeError:\n\u001b[0;32m    <a href='file:///d%3A/Devtools/miniconda/lib/site-packages/audioread/__init__.py?line=112'>113</a>\u001b[0m         \u001b[39mpass\u001b[39;00m\n",
      "File \u001b[1;32mD:\\Devtools\\miniconda\\lib\\site-packages\\audioread\\rawread.py:62\u001b[0m, in \u001b[0;36mRawAudioFile.__init__\u001b[1;34m(self, filename)\u001b[0m\n\u001b[0;32m     <a href='file:///d%3A/Devtools/miniconda/lib/site-packages/audioread/rawread.py?line=60'>61</a>\u001b[0m \u001b[39mdef\u001b[39;00m \u001b[39m__init__\u001b[39m(\u001b[39mself\u001b[39m, filename):\n\u001b[1;32m---> <a href='file:///d%3A/Devtools/miniconda/lib/site-packages/audioread/rawread.py?line=61'>62</a>\u001b[0m     \u001b[39mself\u001b[39m\u001b[39m.\u001b[39m_fh \u001b[39m=\u001b[39m \u001b[39mopen\u001b[39;49m(filename, \u001b[39m'\u001b[39;49m\u001b[39mrb\u001b[39;49m\u001b[39m'\u001b[39;49m)\n\u001b[0;32m     <a href='file:///d%3A/Devtools/miniconda/lib/site-packages/audioread/rawread.py?line=63'>64</a>\u001b[0m     \u001b[39mtry\u001b[39;00m:\n\u001b[0;32m     <a href='file:///d%3A/Devtools/miniconda/lib/site-packages/audioread/rawread.py?line=64'>65</a>\u001b[0m         \u001b[39mself\u001b[39m\u001b[39m.\u001b[39m_file \u001b[39m=\u001b[39m aifc\u001b[39m.\u001b[39mopen(\u001b[39mself\u001b[39m\u001b[39m.\u001b[39m_fh)\n",
      "\u001b[1;31mFileNotFoundError\u001b[0m: [Errno 2] No such file or directory: 'Absofacto - Rewind (Marian Hill Remix) [Official Audio].mp3'"
     ]
    }
   ],
   "source": [
    "pred.predictFolder('D:\\\\Musik\\\\Unknow')"
   ]
  }
 ],
 "metadata": {
  "interpreter": {
   "hash": "d669948995aefc1c7740d919433ecc7c57cb8b49d716c9781bcf5ee3c9927de4"
  },
  "kernelspec": {
   "display_name": "Python 3.8.13 ('base')",
   "language": "python",
   "name": "python3"
  },
  "language_info": {
   "codemirror_mode": {
    "name": "ipython",
    "version": 3
   },
   "file_extension": ".py",
   "mimetype": "text/x-python",
   "name": "python",
   "nbconvert_exporter": "python",
   "pygments_lexer": "ipython3",
   "version": "3.8.13"
  },
  "orig_nbformat": 4
 },
 "nbformat": 4,
 "nbformat_minor": 2
}
