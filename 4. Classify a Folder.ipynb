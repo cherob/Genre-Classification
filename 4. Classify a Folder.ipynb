{
 "cells": [
  {
   "cell_type": "code",
   "execution_count": 1,
   "metadata": {},
   "outputs": [],
   "source": [
    "from src.libraryAnalysier import LibraryAnalysier\n",
    "\n",
    "import pandas as pd\n",
    "import os\n",
    "import numpy as np"
   ]
  },
  {
   "cell_type": "code",
   "execution_count": 2,
   "metadata": {},
   "outputs": [],
   "source": [
    "data_dir = './data/100x20x3/'\n",
    "OUTPUT_PATH = 'D:\\\\Musik\\\\Genres\\\\'\n",
    "DIR_PATH = 'D:\\\\Musik\\\\Archive'\n",
    "DIR_ERROR_PATH = DIR_PATH"
   ]
  },
  {
   "cell_type": "code",
   "execution_count": 3,
   "metadata": {},
   "outputs": [],
   "source": [
    "from keras.models import load_model\n",
    "reconstructed_model = load_model(os.path.join(data_dir, \"model.h5\"))\n",
    "\n",
    "import joblib\n",
    "loaded_scaler = joblib.load(os.path.join(data_dir, \"scaler.pkl\"))  # load from disk\n",
    "\n",
    "import pickle\n",
    "with open(os.path.join(data_dir, \"labels.pkl\"), \"rb\") as a_file:\n",
    "    GENRES = pickle.load(a_file)"
   ]
  },
  {
   "cell_type": "code",
   "execution_count": 4,
   "metadata": {},
   "outputs": [
    {
     "name": "stdout",
     "output_type": "stream",
     "text": [
      "{0: 'Dancefloor', 1: 'Deep', 2: 'Jungle', 3: 'Liquid', 4: 'Minimal', 5: 'Neurofunk', 6: 'Sambass', 7: 'Shriek', 8: 'Techno'}\n"
     ]
    }
   ],
   "source": [
    "print(GENRES)"
   ]
  },
  {
   "cell_type": "code",
   "execution_count": 5,
   "metadata": {},
   "outputs": [],
   "source": [
    "def loadGuess(q):\n",
    "    a = 'other'\n",
    "    a_val = 0\n",
    "    b = 'other'\n",
    "    b_val = 0\n",
    "    \n",
    "    temp = 0\n",
    "    for i, r in enumerate(q):\n",
    "        _max = np.max(r)\n",
    "        temp += _max\n",
    "        g = np.mean(r) * (1 - (np.var(r)))\n",
    "        \n",
    "        if((_max < 0.80)):\n",
    "            continue\n",
    "        if(g > a_val):\n",
    "            b = a\n",
    "            b_val = a_val\n",
    "            a_val = g\n",
    "            a = GENRES[i]\n",
    "        elif(g > b_val):\n",
    "            b = GENRES[i]\n",
    "            b_val = g\n",
    "    \n",
    "    return a, a_val, b, b_val"
   ]
  },
  {
   "cell_type": "code",
   "execution_count": 6,
   "metadata": {},
   "outputs": [],
   "source": [
    "def loadLabel(file, liblys):\n",
    "    file_path = os.path.join(DIR_PATH, file)\n",
    "\n",
    "    result = liblys.loadFile(file_path, None) \n",
    "\n",
    "    inside_df = pd.DataFrame(result)\n",
    "    inside_df.drop(['length'], axis=1, inplace=True)\n",
    "    inside_df = pd.DataFrame(loaded_scaler.transform(inside_df), columns=inside_df.columns)\n",
    "    inside_df.reset_index(drop=True)\n",
    "    q = reconstructed_model.predict(inside_df).T\n",
    "\n",
    "    return loadGuess(q)"
   ]
  },
  {
   "cell_type": "code",
   "execution_count": 7,
   "metadata": {},
   "outputs": [
    {
     "name": "stdout",
     "output_type": "stream",
     "text": [
      "Initialized library: \n",
      "Loading 'Shak Out' Noisia Radio Cut [Cause 4 Concern]_378692870 - AKOV.mp3...\n",
      " > (Dancefloor: 46.07% or Jungle: 33.5%)\n",
      "Loading 02. David Guetta - When Love Takes Over (Blame Remix)_33580893 - Benedict Gwala.mp3...\n",
      " > (Dancefloor: 69.59%)\n",
      "Loading 04 Conrad Subs - Sweet Sweet.wav...\n",
      " > (Sambass: 100.0%)\n",
      "Loading 123 ._Invite's Choice Podcast 328 - Denise Rabe (1).mp3...\n",
      " > error: ()\n",
      "Loading 123 ._Invite's Choice Podcast 328 - Denise Rabe (2).mp3...\n",
      " > error: ()\n",
      "Loading 123 ._Invite's Choice Podcast 328 - Denise Rabe (3).mp3...\n",
      " > error: ()\n",
      "Loading 123 ._Invite's Choice Podcast 328 - Denise Rabe (4).mp3...\n",
      " > error: ()\n",
      "Loading 123 ._Invite's Choice Podcast 328 - Denise Rabe (5).mp3...\n",
      " > error: ()\n",
      "Loading 123 ._Invite's Choice Podcast 328 - Denise Rabe (6).mp3...\n",
      " > error: ()\n",
      "Loading 123 ._Invite's Choice Podcast 328 - Denise Rabe (7).mp3...\n",
      " > error: ()\n",
      "Loading 123 ._Invite's Choice Podcast 328 - Denise Rabe (8).mp3...\n",
      " > error: ()\n",
      "Loading 12A Froidy - The Unknown Coll Irving Bootleg.mp3...\n",
      " > (Shriek: 61.4%)\n",
      "Loading 12A Froidy - The Unknown Coll Irving Bootleg_886406467 - Coll Irving.mp3...\n",
      " > (Shriek: 61.4%)\n",
      "Loading 16. Levela - Ghetto Blaster VIP [-GENESIS-]_356115734 - Multi Function Music.mp3...\n",
      " > (Deep: 83.59%)\n",
      "Loading 2.mp3...\n",
      "Unexpected exception formatting exception. Falling back to standard exception\n"
     ]
    },
    {
     "name": "stderr",
     "output_type": "stream",
     "text": [
      "Traceback (most recent call last):\n",
      "  File \"D:\\Devtools\\miniconda\\lib\\site-packages\\IPython\\core\\interactiveshell.py\", line 3369, in run_code\n",
      "    exec(code_obj, self.user_global_ns, self.user_ns)\n",
      "  File \"C:\\Users\\robin\\AppData\\Local\\Temp\\ipykernel_20568\\3036157579.py\", line 12, in <cell line: 4>\n",
      "    a, a_val, b, b_val = loadLabel(file, liblys)\n",
      "  File \"C:\\Users\\robin\\AppData\\Local\\Temp\\ipykernel_20568\\2212202117.py\", line 4, in loadLabel\n",
      "    result = liblys.loadFile(file_path, None)\n",
      "  File \"c:\\Users\\robin\\.mega\\Coding\\Python\\Genre-Classification\\src\\libraryAnalysier.py\", line 99, in loadFile\n",
      "    return alyis.calculate()\n",
      "  File \"c:\\Users\\robin\\.mega\\Coding\\Python\\Genre-Classification\\src\\analysis.py\", line 31, in calculate\n",
      "    self.addFeatures()\n",
      "  File \"c:\\Users\\robin\\.mega\\Coding\\Python\\Genre-Classification\\src\\analysis.py\", line 51, in addFeatures\n",
      "    segment.calculate('tempo', segment.tempo)\n",
      "  File \"c:\\Users\\robin\\.mega\\Coding\\Python\\Genre-Classification\\src\\segment.py\", line 17, in calculate\n",
      "    result, state = function()\n",
      "  File \"c:\\Users\\robin\\.mega\\Coding\\Python\\Genre-Classification\\src\\segment.py\", line 64, in tempo\n",
      "  File \"D:\\Devtools\\miniconda\\lib\\site-packages\\librosa\\util\\decorators.py\", line 104, in inner_f\n",
      "    return f(**kwargs)\n",
      "  File \"D:\\Devtools\\miniconda\\lib\\site-packages\\librosa\\beat.py\", line 326, in tempo\n",
      "    tg = tempogram(\n",
      "  File \"D:\\Devtools\\miniconda\\lib\\site-packages\\librosa\\util\\decorators.py\", line 88, in inner_f\n",
      "    return f(*args, **kwargs)\n",
      "  File \"D:\\Devtools\\miniconda\\lib\\site-packages\\librosa\\feature\\rhythm.py\", line 172, in tempogram\n",
      "    return util.normalize(\n",
      "  File \"D:\\Devtools\\miniconda\\lib\\site-packages\\librosa\\util\\decorators.py\", line 88, in inner_f\n",
      "    return f(*args, **kwargs)\n",
      "  File \"D:\\Devtools\\miniconda\\lib\\site-packages\\librosa\\util\\utils.py\", line 955, in normalize\n",
      "    Snorm[:] = S / length\n",
      "KeyboardInterrupt\n",
      "\n",
      "During handling of the above exception, another exception occurred:\n",
      "\n",
      "Traceback (most recent call last):\n",
      "  File \"D:\\Devtools\\miniconda\\lib\\site-packages\\IPython\\core\\interactiveshell.py\", line 1982, in showtraceback\n",
      "    stb = self.InteractiveTB.structured_traceback(\n",
      "  File \"D:\\Devtools\\miniconda\\lib\\site-packages\\IPython\\core\\ultratb.py\", line 1118, in structured_traceback\n",
      "    return FormattedTB.structured_traceback(\n",
      "  File \"D:\\Devtools\\miniconda\\lib\\site-packages\\IPython\\core\\ultratb.py\", line 1012, in structured_traceback\n",
      "    return VerboseTB.structured_traceback(\n",
      "  File \"D:\\Devtools\\miniconda\\lib\\site-packages\\IPython\\core\\ultratb.py\", line 865, in structured_traceback\n",
      "    formatted_exception = self.format_exception_as_a_whole(etype, evalue, etb, number_of_lines_of_context,\n",
      "  File \"D:\\Devtools\\miniconda\\lib\\site-packages\\IPython\\core\\ultratb.py\", line 818, in format_exception_as_a_whole\n",
      "    frames.append(self.format_record(r))\n",
      "  File \"D:\\Devtools\\miniconda\\lib\\site-packages\\IPython\\core\\ultratb.py\", line 736, in format_record\n",
      "    result += ''.join(_format_traceback_lines(frame_info.lines, Colors, self.has_colors, lvals))\n",
      "  File \"D:\\Devtools\\miniconda\\lib\\site-packages\\stack_data\\utils.py\", line 145, in cached_property_wrapper\n",
      "    value = obj.__dict__[self.func.__name__] = self.func(obj)\n",
      "  File \"D:\\Devtools\\miniconda\\lib\\site-packages\\stack_data\\core.py\", line 698, in lines\n",
      "    pieces = self.included_pieces\n",
      "  File \"D:\\Devtools\\miniconda\\lib\\site-packages\\stack_data\\utils.py\", line 145, in cached_property_wrapper\n",
      "    value = obj.__dict__[self.func.__name__] = self.func(obj)\n",
      "  File \"D:\\Devtools\\miniconda\\lib\\site-packages\\stack_data\\core.py\", line 649, in included_pieces\n",
      "    pos = scope_pieces.index(self.executing_piece)\n",
      "  File \"D:\\Devtools\\miniconda\\lib\\site-packages\\stack_data\\utils.py\", line 145, in cached_property_wrapper\n",
      "    value = obj.__dict__[self.func.__name__] = self.func(obj)\n",
      "  File \"D:\\Devtools\\miniconda\\lib\\site-packages\\stack_data\\core.py\", line 628, in executing_piece\n",
      "    return only(\n",
      "  File \"D:\\Devtools\\miniconda\\lib\\site-packages\\executing\\executing.py\", line 164, in only\n",
      "    raise NotOneValueFound('Expected one value, found 0')\n",
      "executing.executing.NotOneValueFound: Expected one value, found 0\n"
     ]
    }
   ],
   "source": [
    "files = os.listdir(DIR_PATH)\n",
    "liblys = LibraryAnalysier(library=DIR_PATH, segments = 100)\n",
    "\n",
    "for file in files:\n",
    "    if(os.path.splitext(file)[-1] not in ['.wav', '.mp3']):\n",
    "        print('not supported')\n",
    "        continue\n",
    "\n",
    "    print(f'Loading {file}...')\n",
    "\n",
    "    try:\n",
    "        a, a_val, b, b_val = loadLabel(file, liblys)\n",
    "    except Exception as e:\n",
    "        print(f' > error: {e.args}')\n",
    "        continue\n",
    "\n",
    "    if a == 'other':\n",
    "        print(' > no genre found')\n",
    "    if b != 'other':    \n",
    "        print(f' > ({a}: {round(np.max(a_val)*100, 2)}% or {b}: {round(np.max(b_val)*100, 2)}%)')\n",
    "    else:\n",
    "        print(f' > ({a}: {round(np.max(a_val)*100, 2)}%)')\n",
    "\n",
    "    path_dir = os.path.join(OUTPUT_PATH, a)\n",
    "    path_file = os.path.join(DIR_PATH, file)\n",
    "    new_file = os.path.join(path_dir, os.path.basename(file)),\n",
    "    # if not os.path.exists(OUTPUT_PATH):\n",
    "    #     os.makedirs(OUTPUT_PATH)\n",
    "    # if not os.path.exists(path_dir):\n",
    "    #     os.makedirs(path_dir)\n",
    "    \n",
    "    # print(path_file, new_file)\n",
    "    # os.replace(path_file, new_file)"
   ]
  }
 ],
 "metadata": {
  "interpreter": {
   "hash": "d669948995aefc1c7740d919433ecc7c57cb8b49d716c9781bcf5ee3c9927de4"
  },
  "kernelspec": {
   "display_name": "Python 3.8.13 ('base')",
   "language": "python",
   "name": "python3"
  },
  "language_info": {
   "codemirror_mode": {
    "name": "ipython",
    "version": 3
   },
   "file_extension": ".py",
   "mimetype": "text/x-python",
   "name": "python",
   "nbconvert_exporter": "python",
   "pygments_lexer": "ipython3",
   "version": "3.8.13"
  },
  "orig_nbformat": 4
 },
 "nbformat": 4,
 "nbformat_minor": 2
}
