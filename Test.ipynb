{
 "cells": [
  {
   "cell_type": "code",
   "execution_count": 1,
   "metadata": {},
   "outputs": [
    {
     "name": "stdout",
     "output_type": "stream",
     "text": [
      "C:\\Users\\robin\\Music\\PioneerDJ\\Demo Tracks\\Demo Track 1.mp3 Demo 0\n",
      "C:\\Users\\robin\\Music\\PioneerDJ\\Demo Tracks\\Demo Track 1.mp3 Demo 1\n",
      "C:\\Users\\robin\\Music\\PioneerDJ\\Demo Tracks\\Demo Track 2.mp3 Demo 0\n",
      "C:\\Users\\robin\\Music\\PioneerDJ\\Demo Tracks\\Demo Track 2.mp3 Demo 1\n"
     ]
    }
   ],
   "source": [
    "from src.core.audio.Library import Library\n",
    "from src.core.Options import Options\n",
    "\n",
    "import warnings\n",
    "warnings.filterwarnings('ignore')\n",
    "\n",
    "def onSegmentAnalysed(path, label, index):\n",
    "    print(f'{path} {label} {index}')\n",
    "\n",
    "options = Options(onSegmentAnalysed=onSegmentAnalysed, headersTemplateFile='./data/template.csv')\n",
    "\n",
    "# create a new audio library and load the folder 'C:\\\\Users\\\\robin\\\\Music\\\\PioneerDJ\\\\Demo Tracks' with the label 'Demo Tracks'\n",
    "library = Library('./data/library.csv', options = options)\n",
    "library.addFolder('C:\\\\Users\\\\robin\\\\Music\\\\PioneerDJ\\\\Demo Tracks', 'Demo')\n",
    "library.saveLibrary()"
   ]
  },
  {
   "cell_type": "code",
   "execution_count": null,
   "metadata": {},
   "outputs": [],
   "source": [
    "# Hate is sometimes produced by the human brain, but it is not a disease.\n",
    "# It is a condition of the human body that is caused by the brain.\n",
    "# "
   ]
  }
 ],
 "metadata": {
  "kernelspec": {
   "display_name": "Python 3.8.13 ('base')",
   "language": "python",
   "name": "python3"
  },
  "language_info": {
   "codemirror_mode": {
    "name": "ipython",
    "version": 3
   },
   "file_extension": ".py",
   "mimetype": "text/x-python",
   "name": "python",
   "nbconvert_exporter": "python",
   "pygments_lexer": "ipython3",
   "version": "3.8.13"
  },
  "orig_nbformat": 4,
  "vscode": {
   "interpreter": {
    "hash": "66887cb6b0fecaeb021b7b4d78aaefc960d0e58c2264a73e75f872185525bde4"
   }
  }
 },
 "nbformat": 4,
 "nbformat_minor": 2
}
